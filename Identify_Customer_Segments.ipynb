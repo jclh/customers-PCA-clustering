{
 "cells": [
  {
   "cell_type": "markdown",
   "metadata": {},
   "source": [
    "# Project: Identify Customer Segments\n",
    "\n",
    "In this project, you will apply unsupervised learning techniques to identify segments of the population that form the core customer base for a mail-order sales company in Germany. These segments can then be used to direct marketing campaigns towards audiences that will have the highest expected rate of returns. The data that you will use has been provided by our partners at Bertelsmann Arvato Analytics, and represents a real-life data science task.\n",
    "\n",
    "This notebook will help you complete this task by providing a framework within which you will perform your analysis steps. In each step of the project, you will see some text describing the subtask that you will perform, followed by one or more code cells for you to complete your work. **Feel free to add additional code and markdown cells as you go along so that you can explore everything in precise chunks.** The code cells provided in the base template will outline only the major tasks, and will usually not be enough to cover all of the minor tasks that comprise it.\n",
    "\n",
    "It should be noted that while there will be precise guidelines on how you should handle certain tasks in the project, there will also be places where an exact specification is not provided. **There will be times in the project where you will need to make and justify your own decisions on how to treat the data.** These are places where there may not be only one way to handle the data. In real-life tasks, there may be many valid ways to approach an analysis task. One of the most important things you can do is clearly document your approach so that other scientists can understand the decisions you've made.\n",
    "\n",
    "At the end of most sections, there will be a Markdown cell labeled **Discussion**. In these cells, you will report your findings for the completed section, as well as document the decisions that you made in your approach to each subtask. **Your project will be evaluated not just on the code used to complete the tasks outlined, but also your communication about your observations and conclusions at each stage.**"
   ]
  },
  {
   "cell_type": "code",
   "execution_count": 7,
   "metadata": {
    "scrolled": true
   },
   "outputs": [],
   "source": [
    "# import libraries here; add more as necessary\n",
    "import numpy as np\n",
    "import pandas as pd\n",
    "import matplotlib.pyplot as plt\n",
    "import seaborn as sns\n",
    "from collections import Counter\n",
    "from sklearn.preprocessing import StandardScaler\n",
    "from sklearn.preprocessing import Imputer\n",
    "from sklearn.decomposition import PCA\n",
    "from sklearn.cluster import KMeans\n",
    "\n",
    "# magic word for producing visualizations in notebook\n",
    "%matplotlib inline"
   ]
  },
  {
   "cell_type": "markdown",
   "metadata": {},
   "source": [
    "### Step 0: Load the Data\n",
    "\n",
    "There are four files associated with this project (not including this one):\n",
    "\n",
    "- `Udacity_AZDIAS_Subset.csv`: Demographics data for the general population of Germany; 891211 persons (rows) x 85 features (columns).\n",
    "- `Udacity_CUSTOMERS_Subset.csv`: Demographics data for customers of a mail-order company; 191652 persons (rows) x 85 features (columns).\n",
    "- `Data_Dictionary.md`: Detailed information file about the features in the provided datasets.\n",
    "- `AZDIAS_Feature_Summary.csv`: Summary of feature attributes for demographics data; 85 features (rows) x 4 columns\n",
    "\n",
    "Each row of the demographics files represents a single person, but also includes information outside of individuals, including information about their household, building, and neighborhood. You will use this information to cluster the general population into groups with similar demographic properties. Then, you will see how the people in the customers dataset fit into those created clusters. The hope here is that certain clusters are over-represented in the customers data, as compared to the general population; those over-represented clusters will be assumed to be part of the core userbase. This information can then be used for further applications, such as targeting for a marketing campaign.\n",
    "\n",
    "To start off with, load in the demographics data for the general population into a pandas DataFrame, and do the same for the feature attributes summary. Note for all of the `.csv` data files in this project: they're semicolon (`;`) delimited, so you'll need an additional argument in your [`read_csv()`](https://pandas.pydata.org/pandas-docs/stable/generated/pandas.read_csv.html) call to read in the data properly. Also, considering the size of the main dataset, it may take some time for it to load completely.\n",
    "\n",
    "Once the dataset is loaded, it's recommended that you take a little bit of time just browsing the general structure of the dataset and feature summary file. You'll be getting deep into the innards of the cleaning in the first major step of the project, so gaining some general familiarity can help you get your bearings."
   ]
  },
  {
   "cell_type": "code",
   "execution_count": 2,
   "metadata": {},
   "outputs": [],
   "source": [
    "# Load in the general demographics data.\n",
    "azdias = pd.read_csv('Udacity_AZDIAS_Subset.csv', sep=';', quotechar='\"')\n",
    "\n",
    "# Load in the feature summary file.\n",
    "feat_info = pd.read_csv('AZDIAS_Feature_Summary.csv', sep=';', quotechar='\"')"
   ]
  },
  {
   "cell_type": "code",
   "execution_count": 3,
   "metadata": {},
   "outputs": [
    {
     "name": "stdout",
     "output_type": "stream",
     "text": [
      "Shape of Udacity_AZDIAS_Subset.csv : 891,221 x 85 \n",
      "\n",
      "Shape of AZDIAS_Feature_Summary.csv : 85 x 4\n"
     ]
    }
   ],
   "source": [
    "# Check the structure of the data after it's loaded (e.g. print the number of\n",
    "# rows and columns, print the first few rows)\n",
    "print('Shape of Udacity_AZDIAS_Subset.csv : {:,} x {} \\n'.format(\n",
    "    azdias.shape[0], azdias.shape[1]))\n",
    "print('Shape of AZDIAS_Feature_Summary.csv : {:,} x {}'.format(\n",
    "    feat_info.shape[0], feat_info.shape[1]))"
   ]
  },
  {
   "cell_type": "code",
   "execution_count": 4,
   "metadata": {},
   "outputs": [
    {
     "name": "stdout",
     "output_type": "stream",
     "text": [
      "First few rows of Udacity_AZDIAS_Subset.csv:\n"
     ]
    },
    {
     "data": {
      "text/html": [
       "<div>\n",
       "<style>\n",
       "    .dataframe thead tr:only-child th {\n",
       "        text-align: right;\n",
       "    }\n",
       "\n",
       "    .dataframe thead th {\n",
       "        text-align: left;\n",
       "    }\n",
       "\n",
       "    .dataframe tbody tr th {\n",
       "        vertical-align: top;\n",
       "    }\n",
       "</style>\n",
       "<table border=\"1\" class=\"dataframe\">\n",
       "  <thead>\n",
       "    <tr style=\"text-align: right;\">\n",
       "      <th></th>\n",
       "      <th>AGER_TYP</th>\n",
       "      <th>ALTERSKATEGORIE_GROB</th>\n",
       "      <th>ANREDE_KZ</th>\n",
       "      <th>CJT_GESAMTTYP</th>\n",
       "      <th>FINANZ_MINIMALIST</th>\n",
       "      <th>FINANZ_SPARER</th>\n",
       "      <th>FINANZ_VORSORGER</th>\n",
       "      <th>FINANZ_ANLEGER</th>\n",
       "      <th>FINANZ_UNAUFFAELLIGER</th>\n",
       "      <th>FINANZ_HAUSBAUER</th>\n",
       "      <th>...</th>\n",
       "      <th>PLZ8_ANTG1</th>\n",
       "      <th>PLZ8_ANTG2</th>\n",
       "      <th>PLZ8_ANTG3</th>\n",
       "      <th>PLZ8_ANTG4</th>\n",
       "      <th>PLZ8_BAUMAX</th>\n",
       "      <th>PLZ8_HHZ</th>\n",
       "      <th>PLZ8_GBZ</th>\n",
       "      <th>ARBEIT</th>\n",
       "      <th>ORTSGR_KLS9</th>\n",
       "      <th>RELAT_AB</th>\n",
       "    </tr>\n",
       "  </thead>\n",
       "  <tbody>\n",
       "    <tr>\n",
       "      <th>0</th>\n",
       "      <td>-1</td>\n",
       "      <td>2</td>\n",
       "      <td>1</td>\n",
       "      <td>2.0</td>\n",
       "      <td>3</td>\n",
       "      <td>4</td>\n",
       "      <td>3</td>\n",
       "      <td>5</td>\n",
       "      <td>5</td>\n",
       "      <td>3</td>\n",
       "      <td>...</td>\n",
       "      <td>NaN</td>\n",
       "      <td>NaN</td>\n",
       "      <td>NaN</td>\n",
       "      <td>NaN</td>\n",
       "      <td>NaN</td>\n",
       "      <td>NaN</td>\n",
       "      <td>NaN</td>\n",
       "      <td>NaN</td>\n",
       "      <td>NaN</td>\n",
       "      <td>NaN</td>\n",
       "    </tr>\n",
       "    <tr>\n",
       "      <th>1</th>\n",
       "      <td>-1</td>\n",
       "      <td>1</td>\n",
       "      <td>2</td>\n",
       "      <td>5.0</td>\n",
       "      <td>1</td>\n",
       "      <td>5</td>\n",
       "      <td>2</td>\n",
       "      <td>5</td>\n",
       "      <td>4</td>\n",
       "      <td>5</td>\n",
       "      <td>...</td>\n",
       "      <td>2.0</td>\n",
       "      <td>3.0</td>\n",
       "      <td>2.0</td>\n",
       "      <td>1.0</td>\n",
       "      <td>1.0</td>\n",
       "      <td>5.0</td>\n",
       "      <td>4.0</td>\n",
       "      <td>3.0</td>\n",
       "      <td>5.0</td>\n",
       "      <td>4.0</td>\n",
       "    </tr>\n",
       "    <tr>\n",
       "      <th>2</th>\n",
       "      <td>-1</td>\n",
       "      <td>3</td>\n",
       "      <td>2</td>\n",
       "      <td>3.0</td>\n",
       "      <td>1</td>\n",
       "      <td>4</td>\n",
       "      <td>1</td>\n",
       "      <td>2</td>\n",
       "      <td>3</td>\n",
       "      <td>5</td>\n",
       "      <td>...</td>\n",
       "      <td>3.0</td>\n",
       "      <td>3.0</td>\n",
       "      <td>1.0</td>\n",
       "      <td>0.0</td>\n",
       "      <td>1.0</td>\n",
       "      <td>4.0</td>\n",
       "      <td>4.0</td>\n",
       "      <td>3.0</td>\n",
       "      <td>5.0</td>\n",
       "      <td>2.0</td>\n",
       "    </tr>\n",
       "    <tr>\n",
       "      <th>3</th>\n",
       "      <td>2</td>\n",
       "      <td>4</td>\n",
       "      <td>2</td>\n",
       "      <td>2.0</td>\n",
       "      <td>4</td>\n",
       "      <td>2</td>\n",
       "      <td>5</td>\n",
       "      <td>2</td>\n",
       "      <td>1</td>\n",
       "      <td>2</td>\n",
       "      <td>...</td>\n",
       "      <td>2.0</td>\n",
       "      <td>2.0</td>\n",
       "      <td>2.0</td>\n",
       "      <td>0.0</td>\n",
       "      <td>1.0</td>\n",
       "      <td>3.0</td>\n",
       "      <td>4.0</td>\n",
       "      <td>2.0</td>\n",
       "      <td>3.0</td>\n",
       "      <td>3.0</td>\n",
       "    </tr>\n",
       "    <tr>\n",
       "      <th>4</th>\n",
       "      <td>-1</td>\n",
       "      <td>3</td>\n",
       "      <td>1</td>\n",
       "      <td>5.0</td>\n",
       "      <td>4</td>\n",
       "      <td>3</td>\n",
       "      <td>4</td>\n",
       "      <td>1</td>\n",
       "      <td>3</td>\n",
       "      <td>2</td>\n",
       "      <td>...</td>\n",
       "      <td>2.0</td>\n",
       "      <td>4.0</td>\n",
       "      <td>2.0</td>\n",
       "      <td>1.0</td>\n",
       "      <td>2.0</td>\n",
       "      <td>3.0</td>\n",
       "      <td>3.0</td>\n",
       "      <td>4.0</td>\n",
       "      <td>6.0</td>\n",
       "      <td>5.0</td>\n",
       "    </tr>\n",
       "  </tbody>\n",
       "</table>\n",
       "<p>5 rows × 85 columns</p>\n",
       "</div>"
      ],
      "text/plain": [
       "   AGER_TYP  ALTERSKATEGORIE_GROB  ANREDE_KZ  CJT_GESAMTTYP  \\\n",
       "0        -1                     2          1            2.0   \n",
       "1        -1                     1          2            5.0   \n",
       "2        -1                     3          2            3.0   \n",
       "3         2                     4          2            2.0   \n",
       "4        -1                     3          1            5.0   \n",
       "\n",
       "   FINANZ_MINIMALIST  FINANZ_SPARER  FINANZ_VORSORGER  FINANZ_ANLEGER  \\\n",
       "0                  3              4                 3               5   \n",
       "1                  1              5                 2               5   \n",
       "2                  1              4                 1               2   \n",
       "3                  4              2                 5               2   \n",
       "4                  4              3                 4               1   \n",
       "\n",
       "   FINANZ_UNAUFFAELLIGER  FINANZ_HAUSBAUER    ...     PLZ8_ANTG1  PLZ8_ANTG2  \\\n",
       "0                      5                 3    ...            NaN         NaN   \n",
       "1                      4                 5    ...            2.0         3.0   \n",
       "2                      3                 5    ...            3.0         3.0   \n",
       "3                      1                 2    ...            2.0         2.0   \n",
       "4                      3                 2    ...            2.0         4.0   \n",
       "\n",
       "   PLZ8_ANTG3  PLZ8_ANTG4  PLZ8_BAUMAX  PLZ8_HHZ  PLZ8_GBZ  ARBEIT  \\\n",
       "0         NaN         NaN          NaN       NaN       NaN     NaN   \n",
       "1         2.0         1.0          1.0       5.0       4.0     3.0   \n",
       "2         1.0         0.0          1.0       4.0       4.0     3.0   \n",
       "3         2.0         0.0          1.0       3.0       4.0     2.0   \n",
       "4         2.0         1.0          2.0       3.0       3.0     4.0   \n",
       "\n",
       "   ORTSGR_KLS9  RELAT_AB  \n",
       "0          NaN       NaN  \n",
       "1          5.0       4.0  \n",
       "2          5.0       2.0  \n",
       "3          3.0       3.0  \n",
       "4          6.0       5.0  \n",
       "\n",
       "[5 rows x 85 columns]"
      ]
     },
     "execution_count": 4,
     "metadata": {},
     "output_type": "execute_result"
    }
   ],
   "source": [
    "# Print the fir few rows of azdias\n",
    "print('First few rows of Udacity_AZDIAS_Subset.csv:')\n",
    "azdias.head()"
   ]
  },
  {
   "cell_type": "code",
   "execution_count": 5,
   "metadata": {
    "scrolled": true
   },
   "outputs": [
    {
     "name": "stdout",
     "output_type": "stream",
     "text": [
      "First few rows of AZDIAS_Feature_Summary.csv:\n"
     ]
    },
    {
     "data": {
      "text/html": [
       "<div>\n",
       "<style>\n",
       "    .dataframe thead tr:only-child th {\n",
       "        text-align: right;\n",
       "    }\n",
       "\n",
       "    .dataframe thead th {\n",
       "        text-align: left;\n",
       "    }\n",
       "\n",
       "    .dataframe tbody tr th {\n",
       "        vertical-align: top;\n",
       "    }\n",
       "</style>\n",
       "<table border=\"1\" class=\"dataframe\">\n",
       "  <thead>\n",
       "    <tr style=\"text-align: right;\">\n",
       "      <th></th>\n",
       "      <th>attribute</th>\n",
       "      <th>information_level</th>\n",
       "      <th>type</th>\n",
       "      <th>missing_or_unknown</th>\n",
       "    </tr>\n",
       "  </thead>\n",
       "  <tbody>\n",
       "    <tr>\n",
       "      <th>0</th>\n",
       "      <td>AGER_TYP</td>\n",
       "      <td>person</td>\n",
       "      <td>categorical</td>\n",
       "      <td>[-1,0]</td>\n",
       "    </tr>\n",
       "    <tr>\n",
       "      <th>1</th>\n",
       "      <td>ALTERSKATEGORIE_GROB</td>\n",
       "      <td>person</td>\n",
       "      <td>ordinal</td>\n",
       "      <td>[-1,0,9]</td>\n",
       "    </tr>\n",
       "    <tr>\n",
       "      <th>2</th>\n",
       "      <td>ANREDE_KZ</td>\n",
       "      <td>person</td>\n",
       "      <td>categorical</td>\n",
       "      <td>[-1,0]</td>\n",
       "    </tr>\n",
       "    <tr>\n",
       "      <th>3</th>\n",
       "      <td>CJT_GESAMTTYP</td>\n",
       "      <td>person</td>\n",
       "      <td>categorical</td>\n",
       "      <td>[0]</td>\n",
       "    </tr>\n",
       "    <tr>\n",
       "      <th>4</th>\n",
       "      <td>FINANZ_MINIMALIST</td>\n",
       "      <td>person</td>\n",
       "      <td>ordinal</td>\n",
       "      <td>[-1]</td>\n",
       "    </tr>\n",
       "  </tbody>\n",
       "</table>\n",
       "</div>"
      ],
      "text/plain": [
       "              attribute information_level         type missing_or_unknown\n",
       "0              AGER_TYP            person  categorical             [-1,0]\n",
       "1  ALTERSKATEGORIE_GROB            person      ordinal           [-1,0,9]\n",
       "2             ANREDE_KZ            person  categorical             [-1,0]\n",
       "3         CJT_GESAMTTYP            person  categorical                [0]\n",
       "4     FINANZ_MINIMALIST            person      ordinal               [-1]"
      ]
     },
     "execution_count": 5,
     "metadata": {},
     "output_type": "execute_result"
    }
   ],
   "source": [
    "# Print the first few rows of feat_info\n",
    "print('First few rows of AZDIAS_Feature_Summary.csv:')\n",
    "feat_info.head()"
   ]
  },
  {
   "cell_type": "markdown",
   "metadata": {},
   "source": [
    "> **Tip**: Add additional cells to keep everything in reasonably-sized chunks! Keyboard shortcut `esc --> a` (press escape to enter command mode, then press the 'A' key) adds a new cell before the active cell, and `esc --> b` adds a new cell after the active cell. If you need to convert an active cell to a markdown cell, use `esc --> m` and to convert to a code cell, use `esc --> y`. \n",
    "\n",
    "## Step 1: Preprocessing\n",
    "\n",
    "### Step 1.1: Assess Missing Data\n",
    "\n",
    "The feature summary file contains a summary of properties for each demographics data column. You will use this file to help you make cleaning decisions during this stage of the project. First of all, you should assess the demographics data in terms of missing data. Pay attention to the following points as you perform your analysis, and take notes on what you observe. Make sure that you fill in the **Discussion** cell with your findings and decisions at the end of each step that has one!\n",
    "\n",
    "#### Step 1.1.1: Convert Missing Value Codes to NaNs\n",
    "The fourth column of the feature attributes summary (loaded in above as `feat_info`) documents the codes from the data dictionary that indicate missing or unknown data. While the file encodes this as a list (e.g. `[-1,0]`), this will get read in as a string object. You'll need to do a little bit of parsing to make use of it to identify and clean the data. Convert data that matches a 'missing' or 'unknown' value code into a numpy NaN value. You might want to see how much data takes on a 'missing' or 'unknown' code, and how much data is naturally missing, as a point of interest.\n",
    "\n",
    "**As one more reminder, you are encouraged to add additional cells to break up your analysis into manageable chunks.**"
   ]
  },
  {
   "cell_type": "code",
   "execution_count": 6,
   "metadata": {},
   "outputs": [],
   "source": [
    "# Helper function \n",
    "def to_list_int(str_of_list):\n",
    "    \"\"\"\n",
    "    Take a string object containing the list\n",
    "    of codes for missing or unkown values\n",
    "    and return a list of strings.\n",
    "    \n",
    "    INPUT: \n",
    "        str_of_list - string object containing the list\n",
    "    OUTPUT: \n",
    "        list_str - list object\n",
    "    \"\"\"\n",
    "    # remove brackets\n",
    "    str_of_list = str_of_list[1:-1]\n",
    "    # split string using separator = ','\n",
    "    list_str = str_of_list.split(sep=',')\n",
    "    return list_str"
   ]
  },
  {
   "cell_type": "code",
   "execution_count": 7,
   "metadata": {},
   "outputs": [
    {
     "name": "stdout",
     "output_type": "stream",
     "text": [
      "Missing codes for test attribute CAMEO_INTL_2015 :\n",
      "['-1', 'XX']\n"
     ]
    }
   ],
   "source": [
    "# Test the helper function to_list_int()\n",
    "# Take one attribute to test \n",
    "test_attribute = 'CAMEO_INTL_2015'\n",
    "str_codes = feat_info['missing_or_unknown'][feat_info['attribute'] == test_attribute].iloc[0]\n",
    "\n",
    "# Print test result\n",
    "print('Missing codes for test attribute', test_attribute, ':')\n",
    "print(to_list_int(str_codes))"
   ]
  },
  {
   "cell_type": "code",
   "execution_count": 8,
   "metadata": {},
   "outputs": [
    {
     "name": "stdout",
     "output_type": "stream",
     "text": [
      "Posible values for test feature \"CAMEO_INTL_2015\":\n",
      " [nan '51' '24' '12' '43' '54' '22' '14' '13' '15' '33' '41' '34' '55' '25'\n",
      " '23' '31' '52' '35' '45' '44' '32' 'XX']\n"
     ]
    }
   ],
   "source": [
    "# Explore the unique elements associated with the same example attribute\n",
    "# to understand the contrast between naturally and encoded missing data \n",
    "print('Posible values for test feature \"{}\":\\n {}'.format(\n",
    "    test_attribute, azdias[test_attribute].unique()))"
   ]
  },
  {
   "cell_type": "markdown",
   "metadata": {},
   "source": [
    "For the test attribute, it looks like naturally missing values were read in as `float('nan')` objects and missing or unknown values were encoded as `'XX'`. Typical integer values were read in as string objects."
   ]
  },
  {
   "cell_type": "code",
   "execution_count": 9,
   "metadata": {},
   "outputs": [
    {
     "data": {
      "text/html": [
       "<div>\n",
       "<style>\n",
       "    .dataframe thead tr:only-child th {\n",
       "        text-align: right;\n",
       "    }\n",
       "\n",
       "    .dataframe thead th {\n",
       "        text-align: left;\n",
       "    }\n",
       "\n",
       "    .dataframe tbody tr th {\n",
       "        vertical-align: top;\n",
       "    }\n",
       "</style>\n",
       "<table border=\"1\" class=\"dataframe\">\n",
       "  <thead>\n",
       "    <tr style=\"text-align: right;\">\n",
       "      <th></th>\n",
       "      <th>attribute</th>\n",
       "      <th>information_level</th>\n",
       "      <th>type</th>\n",
       "      <th>missing_or_unknown</th>\n",
       "      <th>missing_codes</th>\n",
       "    </tr>\n",
       "  </thead>\n",
       "  <tbody>\n",
       "    <tr>\n",
       "      <th>0</th>\n",
       "      <td>AGER_TYP</td>\n",
       "      <td>person</td>\n",
       "      <td>categorical</td>\n",
       "      <td>[-1,0]</td>\n",
       "      <td>[-1, 0]</td>\n",
       "    </tr>\n",
       "    <tr>\n",
       "      <th>1</th>\n",
       "      <td>ALTERSKATEGORIE_GROB</td>\n",
       "      <td>person</td>\n",
       "      <td>ordinal</td>\n",
       "      <td>[-1,0,9]</td>\n",
       "      <td>[-1, 0, 9]</td>\n",
       "    </tr>\n",
       "    <tr>\n",
       "      <th>2</th>\n",
       "      <td>ANREDE_KZ</td>\n",
       "      <td>person</td>\n",
       "      <td>categorical</td>\n",
       "      <td>[-1,0]</td>\n",
       "      <td>[-1, 0]</td>\n",
       "    </tr>\n",
       "    <tr>\n",
       "      <th>3</th>\n",
       "      <td>CJT_GESAMTTYP</td>\n",
       "      <td>person</td>\n",
       "      <td>categorical</td>\n",
       "      <td>[0]</td>\n",
       "      <td>[0]</td>\n",
       "    </tr>\n",
       "    <tr>\n",
       "      <th>4</th>\n",
       "      <td>FINANZ_MINIMALIST</td>\n",
       "      <td>person</td>\n",
       "      <td>ordinal</td>\n",
       "      <td>[-1]</td>\n",
       "      <td>[-1]</td>\n",
       "    </tr>\n",
       "  </tbody>\n",
       "</table>\n",
       "</div>"
      ],
      "text/plain": [
       "              attribute information_level         type missing_or_unknown  \\\n",
       "0              AGER_TYP            person  categorical             [-1,0]   \n",
       "1  ALTERSKATEGORIE_GROB            person      ordinal           [-1,0,9]   \n",
       "2             ANREDE_KZ            person  categorical             [-1,0]   \n",
       "3         CJT_GESAMTTYP            person  categorical                [0]   \n",
       "4     FINANZ_MINIMALIST            person      ordinal               [-1]   \n",
       "\n",
       "  missing_codes  \n",
       "0       [-1, 0]  \n",
       "1    [-1, 0, 9]  \n",
       "2       [-1, 0]  \n",
       "3           [0]  \n",
       "4          [-1]  "
      ]
     },
     "execution_count": 9,
     "metadata": {},
     "output_type": "execute_result"
    }
   ],
   "source": [
    "# Add a column to feat_info: lists of codes for missing values\n",
    "feat_info['missing_codes'] = [to_list_int(str_of_list) \n",
    "                              for str_of_list in feat_info['missing_or_unknown']]\n",
    "feat_info.head()"
   ]
  },
  {
   "cell_type": "code",
   "execution_count": 10,
   "metadata": {},
   "outputs": [],
   "source": [
    "# Copy the raw azdias dataframe before replacing encoded missing values\n",
    "# azdias will be the working dataframe\n",
    "azdias_raw = azdias.copy(deep=True)"
   ]
  },
  {
   "cell_type": "markdown",
   "metadata": {},
   "source": [
    "Below I make a dataframe with one column of all features and a second column counting the encoded missing values. I also replace these encoded values with numpy NaN values."
   ]
  },
  {
   "cell_type": "code",
   "execution_count": 11,
   "metadata": {},
   "outputs": [],
   "source": [
    "azdias = azdias_raw.copy(deep=True)"
   ]
  },
  {
   "cell_type": "code",
   "execution_count": 12,
   "metadata": {},
   "outputs": [],
   "source": [
    "# Create dataframe to count encoded missing values\n",
    "encoded_missing = pd.DataFrame(columns=['feature', 'code', 'count_missing'])\n",
    "\n",
    "for feature in azdias:\n",
    "    # retrieve list of codes for missing values from feat_info\n",
    "    nan_codes = feat_info.loc[feat_info['attribute'] == feature, 'missing_codes'].iloc[0]\n",
    "    # loop through list of codes\n",
    "    for code in nan_codes:\n",
    "        if code == '': continue\n",
    "        # transform code from string to integer \n",
    "        if code.isnumeric() or code.lstrip('-').isnumeric():\n",
    "            code = int(code)\n",
    "        # replace coded values in azdias dataframe with numpy NaN\n",
    "        index = azdias[feature] == code\n",
    "        azdias.loc[index, feature] = np.nan\n",
    "        # count missing values and add to dataframe\n",
    "        new_row = {'feature':feature, 'code':code, 'count_missing':sum(index)}\n",
    "        encoded_missing = encoded_missing.append(new_row, ignore_index=True)"
   ]
  },
  {
   "cell_type": "code",
   "execution_count": 13,
   "metadata": {
    "scrolled": true
   },
   "outputs": [
    {
     "name": "stdout",
     "output_type": "stream",
     "text": [
      "Percentage of naturally missing values: 6.46%\n"
     ]
    }
   ],
   "source": [
    "# Get the percentage of natually missing values in the dataset\n",
    "nat_missing = azdias_raw.isnull().sum().sum()\n",
    "print('Percentage of naturally missing values: {:1.2f}%'.format(nat_missing/azdias.size*100))"
   ]
  },
  {
   "cell_type": "code",
   "execution_count": 14,
   "metadata": {},
   "outputs": [
    {
     "name": "stdout",
     "output_type": "stream",
     "text": [
      "Percentage of encoded missing values: 4.59%\n"
     ]
    }
   ],
   "source": [
    "# Get the percentage of encoded missing values in the dataset\n",
    "enc_missing = encoded_missing['count_missing'].sum()\n",
    "print('Percentage of encoded missing values: {:1.2f}%'.format(enc_missing/azdias.size*100))"
   ]
  },
  {
   "cell_type": "code",
   "execution_count": 15,
   "metadata": {},
   "outputs": [
    {
     "name": "stdout",
     "output_type": "stream",
     "text": [
      "Percentage of total missing values: 11.05%\n"
     ]
    }
   ],
   "source": [
    "# Get the percentage of total missing values in the dataset\n",
    "total_missing = azdias.isnull().sum().sum()\n",
    "print('Percentage of total missing values: {:1.2f}%'.format(total_missing/azdias.size*100))"
   ]
  },
  {
   "cell_type": "markdown",
   "metadata": {},
   "source": [
    "#### Step 1.1.2: Assess Missing Data in Each Column\n",
    "\n",
    "How much missing data is present in each column? There are a few columns that are outliers in terms of the proportion of values that are missing. You will want to use matplotlib's [`hist()`](https://matplotlib.org/api/_as_gen/matplotlib.pyplot.hist.html) function to visualize the distribution of missing value counts to find these columns. Identify and document these columns. While some of these columns might have justifications for keeping or re-encoding the data, for this project you should just remove them from the dataframe. (Feel free to make remarks about these outlier columns in the discussion, however!)\n",
    "\n",
    "For the remaining features, are there any patterns in which columns have, or share, missing data?"
   ]
  },
  {
   "cell_type": "code",
   "execution_count": 16,
   "metadata": {},
   "outputs": [],
   "source": [
    "# Add new columns to 'feat_info' to include missing data metrics\n",
    "for column in azdias:\n",
    "    count = azdias[column].isnull().sum()\n",
    "    pct_missing = count / azdias.shape[0] * 100\n",
    "    feat_info.loc[feat_info['attribute'] == column, 'count_missing'] = count\n",
    "    feat_info.loc[feat_info['attribute'] == column, 'pct_missing'] = pct_missing"
   ]
  },
  {
   "cell_type": "code",
   "execution_count": 17,
   "metadata": {},
   "outputs": [
    {
     "data": {
      "image/png": "[encoded data removed]",
      "text/plain": [
       "<matplotlib.figure.Figure at 0x7f155464df98>"
      ]
     },
     "metadata": {
      "needs_background": "light"
     },
     "output_type": "display_data"
    }
   ],
   "source": [
    "# Build a histogram with the series of percent missing values\n",
    "plt.hist(feat_info['pct_missing'], bins=25, facecolor='r', rwidth=0.75)\n",
    "plt.xlabel('Percent Missing')\n",
    "plt.ylabel('Column Counts')\n",
    "plt.title('Histogram 1: Percent of Missing Values')\n",
    "plt.axis([0, 100, 0, 40])\n",
    "plt.grid(True)\n",
    "plt.show()"
   ]
  },
  {
   "cell_type": "code",
   "execution_count": 18,
   "metadata": {},
   "outputs": [],
   "source": [
    "# Remove the outlier columns from the dataset. (You'll perform other data\n",
    "# engineering tasks such as re-encoding and imputation later.)"
   ]
  },
  {
   "cell_type": "code",
   "execution_count": 19,
   "metadata": {},
   "outputs": [
    {
     "name": "stdout",
     "output_type": "stream",
     "text": [
      "Features with more than 20% missing values:\n",
      " 0         AGER_TYP\n",
      "11     GEBURTSJAHR\n",
      "40        TITEL_KZ\n",
      "43        ALTER_HH\n",
      "47    KK_KUNDENTYP\n",
      "64    KBA05_BAUMAX\n",
      "Name: attribute, dtype: object\n"
     ]
    }
   ],
   "source": [
    "# Identify outlier columns\n",
    "bound = 20\n",
    "outliers = feat_info.loc[feat_info['pct_missing'] > bound, 'attribute']\n",
    "print('Features with more than {}% missing values:\\n'.format(bound), outliers)"
   ]
  },
  {
   "cell_type": "code",
   "execution_count": 20,
   "metadata": {},
   "outputs": [],
   "source": [
    "# Checks that `azdias` contains the outliers columns \n",
    "drop_ = [col for col in outliers if col in azdias.columns]\n",
    "# Drop columns\n",
    "azdias.drop(labels=drop_, axis=1, inplace=True)"
   ]
  },
  {
   "cell_type": "code",
   "execution_count": 21,
   "metadata": {},
   "outputs": [
    {
     "data": {
      "image/png": "[encoded data removed]",
      "text/plain": [
       "<matplotlib.figure.Figure at 0x7f15883dafd0>"
      ]
     },
     "metadata": {
      "needs_background": "light"
     },
     "output_type": "display_data"
    }
   ],
   "source": [
    "# Build a second histogram of the series of percent missing values \n",
    "# — now with the remaining 79 features.\n",
    "plt.hist(feat_info['pct_missing'], bins=50, facecolor='g', rwidth=0.75)\n",
    "plt.xlabel('Percent Missing')\n",
    "plt.ylabel('Column Counts')\n",
    "plt.title('Histogram 2: Percent of Missing Values')\n",
    "plt.axis([0, 20, 0, 35])\n",
    "plt.grid(True)\n",
    "plt.show()"
   ]
  },
  {
   "cell_type": "markdown",
   "metadata": {},
   "source": [
    "Below, I investigate some patterns in the amount of missing data in the remaining 79 features."
   ]
  },
  {
   "cell_type": "code",
   "execution_count": 22,
   "metadata": {},
   "outputs": [
    {
     "name": "stdout",
     "output_type": "stream",
     "text": [
      "32 features with less than 5% missing values:\n",
      "\n",
      " 1      ALTERSKATEGORIE_GROB\n",
      "2                 ANREDE_KZ\n",
      "3             CJT_GESAMTTYP\n",
      "4         FINANZ_MINIMALIST\n",
      "5             FINANZ_SPARER\n",
      "6          FINANZ_VORSORGER\n",
      "7            FINANZ_ANLEGER\n",
      "8     FINANZ_UNAUFFAELLIGER\n",
      "9          FINANZ_HAUSBAUER\n",
      "10                FINANZTYP\n",
      "12          GFK_URLAUBERTYP\n",
      "13         GREEN_AVANTGARDE\n",
      "19           LP_STATUS_FEIN\n",
      "20           LP_STATUS_GROB\n",
      "23           RETOURTYP_BK_S\n",
      "24                SEMIO_SOZ\n",
      "25                SEMIO_FAM\n",
      "26                SEMIO_REL\n",
      "27                SEMIO_MAT\n",
      "28               SEMIO_VERT\n",
      "29               SEMIO_LUST\n",
      "30                SEMIO_ERL\n",
      "31               SEMIO_KULT\n",
      "32                SEMIO_RAT\n",
      "33               SEMIO_KRIT\n",
      "34                SEMIO_DOM\n",
      "35               SEMIO_KAEM\n",
      "36            SEMIO_PFLICHT\n",
      "37              SEMIO_TRADV\n",
      "42                 ZABEOTYP\n",
      "46       HH_EINKOMMEN_SCORE\n",
      "72        ONLINE_AFFINITAET\n",
      "Name: attribute, dtype: object\n"
     ]
    }
   ],
   "source": [
    "# Identify 32 features with less than 5% missing values\n",
    "missing_0_5 = feat_info.loc[feat_info['pct_missing'] < 5, 'attribute']\n",
    "print(len(missing_0_5), \n",
    "      'features with less than 5% missing values:\\n\\n', \n",
    "      missing_0_5)"
   ]
  },
  {
   "cell_type": "code",
   "execution_count": 23,
   "metadata": {
    "scrolled": true
   },
   "outputs": [
    {
     "name": "stdout",
     "output_type": "stream",
     "text": [
      "47 features with less than 5%-20% missing values:\n",
      "\n",
      " 14               HEALTH_TYP\n",
      "15      LP_LEBENSPHASE_FEIN\n",
      "16      LP_LEBENSPHASE_GROB\n",
      "17          LP_FAMILIE_FEIN\n",
      "18          LP_FAMILIE_GROB\n",
      "21         NATIONALITAET_KZ\n",
      "22    PRAEGENDE_JUGENDJAHRE\n",
      "38              SHOPPER_TYP\n",
      "39                  SOHO_KZ\n",
      "41                 VERS_TYP\n",
      "44             ANZ_PERSONEN\n",
      "45                ANZ_TITEL\n",
      "48           W_KEIT_KIND_HH\n",
      "49           WOHNDAUER_2008\n",
      "50      ANZ_HAUSHALTE_AKTIV\n",
      "51             ANZ_HH_TITEL\n",
      "52              GEBAEUDETYP\n",
      "53              KONSUMNAEHE\n",
      "54         MIN_GEBAEUDEJAHR\n",
      "55              OST_WEST_KZ\n",
      "56                 WOHNLAGE\n",
      "57          CAMEO_DEUG_2015\n",
      "58           CAMEO_DEU_2015\n",
      "59          CAMEO_INTL_2015\n",
      "60              KBA05_ANTG1\n",
      "61              KBA05_ANTG2\n",
      "62              KBA05_ANTG3\n",
      "63              KBA05_ANTG4\n",
      "65                KBA05_GBZ\n",
      "66                 BALLRAUM\n",
      "67                 EWDICHTE\n",
      "68               INNENSTADT\n",
      "69       GEBAEUDETYP_RASTER\n",
      "70                      KKK\n",
      "71               MOBI_REGIO\n",
      "73                 REGIOTYP\n",
      "74         KBA13_ANZAHL_PKW\n",
      "75               PLZ8_ANTG1\n",
      "76               PLZ8_ANTG2\n",
      "77               PLZ8_ANTG3\n",
      "78               PLZ8_ANTG4\n",
      "79              PLZ8_BAUMAX\n",
      "80                 PLZ8_HHZ\n",
      "81                 PLZ8_GBZ\n",
      "82                   ARBEIT\n",
      "83              ORTSGR_KLS9\n",
      "84                 RELAT_AB\n",
      "Name: attribute, dtype: object\n"
     ]
    }
   ],
   "source": [
    "# Identify 47 features with 5%-20% missing values\n",
    "index_ = (feat_info['pct_missing'] > 5) & (feat_info['pct_missing'] < 20)\n",
    "missing_5_20 = feat_info.loc[index_, 'attribute']\n",
    "print(len(missing_5_20), \n",
    "      'features with less than 5%-20% missing values:\\n\\n', \n",
    "      missing_5_20)"
   ]
  },
  {
   "cell_type": "code",
   "execution_count": 24,
   "metadata": {
    "scrolled": false
   },
   "outputs": [
    {
     "name": "stdout",
     "output_type": "stream",
     "text": [
      "Features with less than 5% missing values. \n",
      "Count per \"information_level\":\n",
      "\n",
      " person        30\n",
      "region_rr1     1\n",
      "household      1\n",
      "Name: information_level, dtype: int64\n"
     ]
    }
   ],
   "source": [
    "# print the count of attributes grouped by the information_level\n",
    "print('Features with less than 5% missing values. \\nCount per \"information_level\":\\n\\n',\n",
    "      feat_info.loc[missing_0_5.index, 'information_level'].value_counts())"
   ]
  },
  {
   "cell_type": "code",
   "execution_count": 25,
   "metadata": {
    "scrolled": true
   },
   "outputs": [
    {
     "name": "stdout",
     "output_type": "stream",
     "text": [
      "Features with 5%-20% missing values. \n",
      "Count per \"information_level\":\n",
      "\n",
      " person            10\n",
      "macrocell_plz8     8\n",
      "building           7\n",
      "microcell_rr3      5\n",
      "region_rr1         4\n",
      "household          4\n",
      "community          3\n",
      "postcode           3\n",
      "microcell_rr4      3\n",
      "Name: information_level, dtype: int64\n"
     ]
    }
   ],
   "source": [
    "# print the count of attributes grouped by the information_level\n",
    "print('Features with 5%-20% missing values. \\nCount per \"information_level\":\\n\\n',\n",
    "      feat_info.loc[missing_5_20.index, 'information_level'].value_counts())"
   ]
  },
  {
   "cell_type": "code",
   "execution_count": 26,
   "metadata": {},
   "outputs": [
    {
     "name": "stdout",
     "output_type": "stream",
     "text": [
      "Outliers, more than 20% missing values. \n",
      "Count per \"information_level\":\n",
      "\n",
      " person           3\n",
      "household        2\n",
      "microcell_rr3    1\n",
      "Name: information_level, dtype: int64\n"
     ]
    }
   ],
   "source": [
    "# print the count of attributes grouped by the information_level\n",
    "print('Outliers, more than 20% missing values. \\nCount per \"information_level\":\\n\\n',\n",
    "      feat_info.loc[outliers.index, 'information_level'].value_counts())"
   ]
  },
  {
   "cell_type": "markdown",
   "metadata": {},
   "source": [
    "#### Discussion 1.1.2: Assess Missing Data in Each Column\n",
    "\n",
    "I first built a new dataframe of the features in `azdias` which includes their corresponding count of missing values and the percentage of missing values. \n",
    "\n",
    "I used this dataframe to create Histogram 1 (red bars) with the series of percent missing values, which shows that there are 6 features/columns that are missing more than 20% of their values. I drop these 6 columns from `azdias`. \n",
    "\n",
    "Using the remaining 79 features, I created Histogram 2 (green bars) with the series of percent missing values. This histogram shows that 32 features have less than 5% missing values; with another group of 47 features having 5% - 20% missing values. \n",
    "\n",
    "In order to investigate patterns in the amount of missing data in these remaining 79 features, I separated the features into these two groups:\n",
    "1. attributes with less than 5% missing values\n",
    "2. attributes with 5% - 20% missing values\n",
    "\n",
    "Finally I used the `feat_info` dataframe to investigate whether the most relevant characteristic of the attributes, \"information_level\", is associated with the amount of missing data.\n",
    "\n",
    "I found that for the 32 attributes with less than 5% missing values, 30 are observed at the person level. In contrast, the 47 attributes with 5% - 20% missing values are more evenly distributed with respect to information level: 10 are person level, 4 are household level, and the remaining 33 are higher levels of aggregation (e.g., building, region, post code).\n",
    "\n",
    "I went back to do a similar analysis of the outliers — attributes with more than 20% missing values — and found that 3 are observed at the person level, 2 at the household level, and 1 at the microcell level."
   ]
  },
  {
   "cell_type": "markdown",
   "metadata": {},
   "source": [
    "#### Step 1.1.3: Assess Missing Data in Each Row\n",
    "\n",
    "Now, you'll perform a similar assessment for the rows of the dataset. How much data is missing in each row? As with the columns, you should see some groups of points that have a very different numbers of missing values. Divide the data into two subsets: one for data points that are above some threshold for missing values, and a second subset for points below that threshold.\n",
    "\n",
    "In order to know what to do with the outlier rows, we should see if the distribution of data values on columns that are not missing data (or are missing very little data) are similar or different between the two groups. Select at least five of these columns and compare the distribution of values.\n",
    "- You can use seaborn's [`countplot()`](https://seaborn.pydata.org/generated/seaborn.countplot.html) function to create a bar chart of code frequencies and matplotlib's [`subplot()`](https://matplotlib.org/api/_as_gen/matplotlib.pyplot.subplot.html) function to put bar charts for the two subplots side by side.\n",
    "- To reduce repeated code, you might want to write a function that can perform this comparison, taking as one of its arguments a column to be compared.\n",
    "\n",
    "Depending on what you observe in your comparison, this will have implications on how you approach your conclusions later in the analysis. If the distributions of non-missing features look similar between the data with many missing values and the data with few or no missing values, then we could argue that simply dropping those points from the analysis won't present a major issue. On the other hand, if the data with many missing values looks very different from the data with few or no missing values, then we should make a note on those data as special. We'll revisit these data later on. **Either way, you should continue your analysis for now using just the subset of the data with few or no missing values.**"
   ]
  },
  {
   "cell_type": "code",
   "execution_count": 27,
   "metadata": {},
   "outputs": [],
   "source": [
    "# Count missing values per row\n",
    "count_missing = azdias.isnull().sum(axis=1)\n",
    "pct_missing = np.float16(count_missing / azdias.shape[1] * 100)"
   ]
  },
  {
   "cell_type": "code",
   "execution_count": 28,
   "metadata": {},
   "outputs": [
    {
     "name": "stdout",
     "output_type": "stream",
     "text": [
      "Rows with 0 missing features: 623,209\n",
      "Rows with 1 missing features: 15,738\n",
      "Rows with 2 missing features: 27,926\n",
      "Rows with 3 missing features: 17,629\n",
      "Rows with 4 missing features: 12,607\n",
      "Rows with 5 missing features: 22,515\n",
      "Rows with 6 missing features: 13,771\n",
      "Rows with 7 missing features: 13,714\n",
      "Rows with 8 missing features: 24,592\n",
      "Rows with 9 missing features: 3,042\n",
      "Rows with 10 missing features: 5,410\n",
      "Rows with 11 missing features: 1,127\n",
      "Rows with 12 missing features: 766\n",
      "Rows with 13 missing features: 3,255\n",
      "Rows with 14 missing features: 2,243\n",
      "Rows with 15 missing features: 4,743\n",
      "Rows with 16 missing features: 2,505\n",
      "Rows with 17 missing features: 677\n",
      "Rows with 18 missing features: 428\n",
      "Rows with 19 missing features: 1,180\n",
      "Rows with 20 missing features: 349\n",
      "Rows with 21 missing features: 150\n",
      "Rows with 22 missing features: 129\n",
      "Rows with 23 missing features: 132\n",
      "Rows with 24 missing features: 69\n",
      "Rows with 25 missing features: 55\n",
      "Rows with 26 missing features: 59\n",
      "Rows with 27 missing features: 24\n",
      "Rows with 28 missing features: 5\n",
      "Rows with 29 missing features: 12\n",
      "Rows with 30 missing features: 6\n",
      "Rows with 31 missing features: 3\n",
      "Rows with 32 missing features: 206\n",
      "Rows with 33 missing features: 2,985\n",
      "Rows with 34 missing features: 10,816\n",
      "Rows with 35 missing features: 3,911\n",
      "Rows with 36 missing features: 84\n",
      "Rows with 37 missing features: 538\n",
      "Rows with 38 missing features: 421\n",
      "Rows with 39 missing features: 77\n",
      "Rows with 40 missing features: 137\n",
      "Rows with 41 missing features: 356\n",
      "Rows with 42 missing features: 21\n",
      "Rows with 43 missing features: 27,369\n",
      "Rows with 44 missing features: 155\n",
      "Rows with 45 missing features: 494\n",
      "Rows with 47 missing features: 45,578\n",
      "Rows with 48 missing features: 1\n",
      "Rows with 49 missing features: 2\n"
     ]
    }
   ],
   "source": [
    "# Use a counter to get the number of rows that show a given number of missing features\n",
    "counter = Counter(count_missing)\n",
    "# Print the counts for the relevant subset of missing features\n",
    "for i in range(count_missing.min(), count_missing.max()+1):\n",
    "    if i in counter:\n",
    "        print('Rows with {} missing features: {:,}'.format(i, counter[i]))"
   ]
  },
  {
   "cell_type": "code",
   "execution_count": 29,
   "metadata": {},
   "outputs": [
    {
     "data": {
      "image/png": "[encoded data removed]",
      "text/plain": [
       "<matplotlib.figure.Figure at 0x7f152fdb6ef0>"
      ]
     },
     "metadata": {
      "needs_background": "light"
     },
     "output_type": "display_data"
    }
   ],
   "source": [
    "# Build a histogram with the series of missing features per row\n",
    "ax1 = plt.subplot()\n",
    "plt.hist(count_missing, bins=20, facecolor='b', rwidth=0.75)\n",
    "plt.xlabel('# of missing features')\n",
    "plt.ylabel('# of rows')\n",
    "plt.title('Histogram 3')\n",
    "plt.grid(True)\n",
    "ax1.set_yticklabels(['{:,}'.format(int(x)) for x in ax1.get_yticks().tolist()])\n",
    "plt.show()"
   ]
  },
  {
   "cell_type": "code",
   "execution_count": 30,
   "metadata": {},
   "outputs": [
    {
     "data": {
      "image/png": "[encoded data removed]",
      "text/plain": [
       "<matplotlib.figure.Figure at 0x7f152fc8cfd0>"
      ]
     },
     "metadata": {
      "needs_background": "light"
     },
     "output_type": "display_data"
    }
   ],
   "source": [
    "# Build second histogram with the series of missing features per row\n",
    "# with modified axis in order to zoom into rows with positive # of missing values\n",
    "ax2 = plt.subplot()\n",
    "plt.hist(count_missing[count_missing > 0], bins=25, facecolor='c', rwidth=0.75)\n",
    "plt.xlabel('# of missing features')\n",
    "plt.ylabel('# of rows')\n",
    "plt.title('Histogram 4\\n Rows with positive # of missing values')\n",
    "plt.grid(True)\n",
    "ax2.set_yticklabels(['{:,}'.format(int(x)) for x in ax2.get_yticks().tolist()])\n",
    "plt.show()"
   ]
  },
  {
   "cell_type": "code",
   "execution_count": 31,
   "metadata": {},
   "outputs": [
    {
     "name": "stdout",
     "output_type": "stream",
     "text": [
      "Subset 1 : # of rows with missing features < 9:\n",
      "  771,701\n",
      "Subset 2 : # of rows with 9 <= missing features <= 32:\n",
      "  26,575\n",
      "Subset 3 : # of rows with missing features > 32:\n",
      "  92,945\n"
     ]
    }
   ],
   "source": [
    "# Get indices for rows with less than 9 missing features\n",
    "index_1 = (count_missing < 9)\n",
    "# Get indices for rows with >= 9 and <= 32 missing features\n",
    "index_2 = (count_missing >= 9) & (count_missing <= 32)\n",
    "# Get indices for rows with more than 32 missing features\n",
    "index_3 = (count_missing > 32)\n",
    "\n",
    "# Print dimensions of subsets\n",
    "print('Subset 1 : # of rows with missing features < 9:\\n  {:,}'.format(\n",
    "    sum(index_1)))\n",
    "print('Subset 2 : # of rows with 9 <= missing features <= 32:\\n  {:,}'.format(\n",
    "    sum(index_2)))\n",
    "print('Subset 3 : # of rows with missing features > 32:\\n  {:,}'.format(\n",
    "    sum(index_3)))"
   ]
  },
  {
   "cell_type": "code",
   "execution_count": 32,
   "metadata": {},
   "outputs": [],
   "source": [
    "# Compare the distribution of values for at least five columns where there are\n",
    "# no or few missing values, between the two subsets."
   ]
  },
  {
   "cell_type": "code",
   "execution_count": 33,
   "metadata": {},
   "outputs": [],
   "source": [
    "# Helper function\n",
    "def cat_distribution(df_1, df_2, df_3, column_name):\n",
    "    \"\"\"\n",
    "    Plot the distribution of values for a single feature \n",
    "    contrasting said distribution between the subsets created above\n",
    "    \n",
    "    INPUT: \n",
    "        df_1\n",
    "        df_2\n",
    "        df_3\n",
    "        column_name - column/feature name\n",
    "    OUTPUT: \n",
    "        None - plots the two distributions side by side\n",
    "    \"\"\"\n",
    "    ax1 = plt.subplot(1, 3, 1)\n",
    "    sns.countplot(x=column_name, data=df_1)\n",
    "    plt.xlabel('subset 1')\n",
    "    plt.ylabel('# of rows')\n",
    "    ax1.set_yticklabels([str(int(x))[0:3] + 'k' for x in ax1.get_yticks().tolist()])\n",
    "    ax1.set_xticklabels([str(int(x)) for x in ax1.get_xticks().tolist()])\n",
    "\n",
    "    ax2 = plt.subplot(1, 3, 2)\n",
    "    sns.countplot(x=column_name, data=df_2)\n",
    "    plt.xlabel('subset 2')\n",
    "    plt.ylabel('# of rows')\n",
    "    ax2.set_xticklabels([str(int(x)) for x in ax2.get_xticks().tolist()])\n",
    "    \n",
    "    ax3 = plt.subplot(1, 3, 3)\n",
    "    sns.countplot(x=column_name, data=df_3)\n",
    "    plt.xlabel('subset 3')\n",
    "    plt.ylabel('# of rows')\n",
    "    ax3.set_xticklabels([str(int(x)) for x in ax3.get_xticks().tolist()])\n",
    "\n",
    "    plt.suptitle(column_name)\n",
    "    plt.tight_layout()\n",
    "    plt.subplots_adjust(top=0.9)\n",
    "    plt.show()"
   ]
  },
  {
   "cell_type": "code",
   "execution_count": 34,
   "metadata": {
    "scrolled": true
   },
   "outputs": [
    {
     "name": "stdout",
     "output_type": "stream",
     "text": [
      "Columns with no missing data:  24\n",
      "\n",
      " Index(['ANREDE_KZ', 'FINANZ_MINIMALIST', 'FINANZ_SPARER', 'FINANZ_VORSORGER',\n",
      "       'FINANZ_ANLEGER', 'FINANZ_UNAUFFAELLIGER', 'FINANZ_HAUSBAUER',\n",
      "       'FINANZTYP', 'GREEN_AVANTGARDE', 'SEMIO_SOZ', 'SEMIO_FAM', 'SEMIO_REL',\n",
      "       'SEMIO_MAT', 'SEMIO_VERT', 'SEMIO_LUST', 'SEMIO_ERL', 'SEMIO_KULT',\n",
      "       'SEMIO_RAT', 'SEMIO_KRIT', 'SEMIO_DOM', 'SEMIO_KAEM', 'SEMIO_PFLICHT',\n",
      "       'SEMIO_TRADV', 'ZABEOTYP'],\n",
      "      dtype='object')\n"
     ]
    }
   ],
   "source": [
    "# Identify the columns with no missing data\n",
    "count_per_col = azdias.isnull().sum(axis=0)\n",
    "clean_cols = count_per_col[count_per_col == 0].index\n",
    "print('Columns with no missing data: ', len(clean_cols))\n",
    "print('\\n',clean_cols)"
   ]
  },
  {
   "cell_type": "code",
   "execution_count": 35,
   "metadata": {
    "scrolled": true
   },
   "outputs": [
    {
     "data": {
      "image/png": "[encoded data removed]",
      "text/plain": [
       "<matplotlib.figure.Figure at 0x7f152fc24e80>"
      ]
     },
     "metadata": {
      "needs_background": "light"
     },
     "output_type": "display_data"
    },
    {
     "data": {
      "image/png": "[encoded data removed]",
      "text/plain": [
       "<matplotlib.figure.Figure at 0x7f152fcd3b70>"
      ]
     },
     "metadata": {
      "needs_background": "light"
     },
     "output_type": "display_data"
    },
    {
     "data": {
      "image/png": "[encoded data removed]",
      "text/plain": [
       "<matplotlib.figure.Figure at 0x7f152f9e0240>"
      ]
     },
     "metadata": {
      "needs_background": "light"
     },
     "output_type": "display_data"
    },
    {
     "data": {
      "image/png": "[encoded data removed]",
      "text/plain": [
       "<matplotlib.figure.Figure at 0x7f152f98ee10>"
      ]
     },
     "metadata": {
      "needs_background": "light"
     },
     "output_type": "display_data"
    },
    {
     "data": {
      "image/png": "[encoded data removed]",
      "text/plain": [
       "<matplotlib.figure.Figure at 0x7f152f987908>"
      ]
     },
     "metadata": {
      "needs_background": "light"
     },
     "output_type": "display_data"
    },
    {
     "data": {
      "image/png": "[encoded data removed]",
      "text/plain": [
       "<matplotlib.figure.Figure at 0x7f1554541f28>"
      ]
     },
     "metadata": {
      "needs_background": "light"
     },
     "output_type": "display_data"
    },
    {
     "data": {
      "image/png": "[encoded data removed]",
      "text/plain": [
       "<matplotlib.figure.Figure at 0x7f152f8bd550>"
      ]
     },
     "metadata": {
      "needs_background": "light"
     },
     "output_type": "display_data"
    },
    {
     "data": {
      "image/png": "[encoded data removed]",
      "text/plain": [
       "<matplotlib.figure.Figure at 0x7f1555224668>"
      ]
     },
     "metadata": {
      "needs_background": "light"
     },
     "output_type": "display_data"
    },
    {
     "data": {
      "image/png": "[encoded data removed]",
      "text/plain": [
       "<matplotlib.figure.Figure at 0x7f152f6a2fd0>"
      ]
     },
     "metadata": {
      "needs_background": "light"
     },
     "output_type": "display_data"
    },
    {
     "data": {
      "image/png": "[encoded data removed]",
      "text/plain": [
       "<matplotlib.figure.Figure at 0x7f152f856898>"
      ]
     },
     "metadata": {
      "needs_background": "light"
     },
     "output_type": "display_data"
    },
    {
     "data": {
      "image/png": "[encoded data removed]",
      "text/plain": [
       "<matplotlib.figure.Figure at 0x7f152f655f60>"
      ]
     },
     "metadata": {
      "needs_background": "light"
     },
     "output_type": "display_data"
    },
    {
     "data": {
      "image/png": "[encoded data removed]",
      "text/plain": [
       "<matplotlib.figure.Figure at 0x7f152f9eff98>"
      ]
     },
     "metadata": {
      "needs_background": "light"
     },
     "output_type": "display_data"
    },
    {
     "data": {
      "image/png": "[encoded data removed]",
      "text/plain": [
       "<matplotlib.figure.Figure at 0x7f152fb03358>"
      ]
     },
     "metadata": {
      "needs_background": "light"
     },
     "output_type": "display_data"
    },
    {
     "data": {
      "image/png": "[encoded data removed]",
      "text/plain": [
       "<matplotlib.figure.Figure at 0x7f152f979cc0>"
      ]
     },
     "metadata": {
      "needs_background": "light"
     },
     "output_type": "display_data"
    },
    {
     "data": {
      "image/png": "[encoded data removed]",
      "text/plain": [
       "<matplotlib.figure.Figure at 0x7f152f60bf28>"
      ]
     },
     "metadata": {
      "needs_background": "light"
     },
     "output_type": "display_data"
    },
    {
     "data": {
      "image/png": "[encoded data removed]",
      "text/plain": [
       "<matplotlib.figure.Figure at 0x7f152fa52080>"
      ]
     },
     "metadata": {
      "needs_background": "light"
     },
     "output_type": "display_data"
    },
    {
     "data": {
      "image/png": "[encoded data removed]",
      "text/plain": [
       "<matplotlib.figure.Figure at 0x7f1554565320>"
      ]
     },
     "metadata": {
      "needs_background": "light"
     },
     "output_type": "display_data"
    },
    {
     "data": {
      "image/png": "[encoded data removed]",
      "text/plain": [
       "<matplotlib.figure.Figure at 0x7f152f961e48>"
      ]
     },
     "metadata": {
      "needs_background": "light"
     },
     "output_type": "display_data"
    },
    {
     "data": {
      "image/png": "[encoded data removed]",
      "text/plain": [
       "<matplotlib.figure.Figure at 0x7f152f607be0>"
      ]
     },
     "metadata": {
      "needs_background": "light"
     },
     "output_type": "display_data"
    },
    {
     "data": {
      "image/png": "[encoded data removed]",
      "text/plain": [
       "<matplotlib.figure.Figure at 0x7f152f66a390>"
      ]
     },
     "metadata": {
      "needs_background": "light"
     },
     "output_type": "display_data"
    },
    {
     "data": {
      "image/png": "[encoded data removed]",
      "text/plain": [
       "<matplotlib.figure.Figure at 0x7f152f8aa8d0>"
      ]
     },
     "metadata": {
      "needs_background": "light"
     },
     "output_type": "display_data"
    },
    {
     "data": {
      "image/png": "[encoded data removed]",
      "text/plain": [
       "<matplotlib.figure.Figure at 0x7f152fc12ba8>"
      ]
     },
     "metadata": {
      "needs_background": "light"
     },
     "output_type": "display_data"
    },
    {
     "data": {
      "image/png": "[encoded data removed]",
      "text/plain": [
       "<matplotlib.figure.Figure at 0x7f152f774d68>"
      ]
     },
     "metadata": {
      "needs_background": "light"
     },
     "output_type": "display_data"
    },
    {
     "data": {
      "image/png": "[encoded data removed]",
      "text/plain": [
       "<matplotlib.figure.Figure at 0x7f152f8d3cc0>"
      ]
     },
     "metadata": {
      "needs_background": "light"
     },
     "output_type": "display_data"
    }
   ],
   "source": [
    "# Plot and contrast the distribution of categories for all columns with no missing data\n",
    "df_1, df_2, df_3 = azdias[index_1], azdias[index_2], azdias[index_3]\n",
    "for column_name in clean_cols:\n",
    "    cat_distribution(df_1, df_2, df_3, column_name)"
   ]
  },
  {
   "cell_type": "code",
   "execution_count": 36,
   "metadata": {},
   "outputs": [],
   "source": [
    "# As directed, I will continue the analysis using just the subset \n",
    "# of the data with few or no missing values - i.e. missing features < 9\n",
    "azdias_1 = azdias[index_1]"
   ]
  },
  {
   "cell_type": "markdown",
   "metadata": {},
   "source": [
    "#### Discussion 1.1.3: Assess Missing Data in Each Row\n",
    "\n",
    "Histograms 3 and 4 show the distribution of missing values per row in the dataset. Histogram 4 is a zoomed-in version of Histogram 3 that excludes rows with no missing values. \n",
    "\n",
    "Histogram 4 shows that most rows with any missing values have at most 8 missing features. The count of rows declines almost consistently from 9 to 32 missing features. We see significant spikes in the count of rows starting again at 33 missing features. \n",
    "\n",
    "Based on this (and my reviewer’s feedback) I separate the dataset in 3 subsets:\n",
    "- Subset 1 : rows with `missing features < 9` : 771,701\n",
    "-  Subset 2 : rows with `9 <= missing features <= 32` : 26,575\n",
    "-  Subset 3 : rows with `missing features > 32` : 92,945\n",
    "\n",
    "In order to investigate if the distribution of data values on columns that are not missing data are similar between these subsets,  I identified the 24 columns with no missing values and used a helper function to plot  the distribution of values in each of these 24 columns. That is, contrasting each distribution side-by-side between the 3 subsets.\n",
    "\n",
    "The plots show that for most columns with no missing values the distributions of values are similar between *subset 1* and *subset 2* . However, the plots also show that the distributions of values in *subset 3* do look qualitatively different than the other two subsets. \n",
    "\n",
    "This visual comparisons suggests that keeping the rows in subset 1 (missing features < 9) and dropping the rows in subset 2 should not present a major issue for our analysis of clusters or segments. On the other hand, subset 3 (missing features > 32) seems to be different from the other two subsets in a systematic way, which would imply that dropping those observations introduces bias in the analysis. \n",
    "\n",
    "That said, I follow the instructions above and continue the analysis for now using just the subset of data with few or no missing values."
   ]
  },
  {
   "cell_type": "markdown",
   "metadata": {},
   "source": [
    "### Step 1.2: Select and Re-Encode Features\n",
    "\n",
    "Checking for missing data isn't the only way in which you can prepare a dataset for analysis. Since the unsupervised learning techniques to be used will only work on data that is encoded numerically, you need to make a few encoding changes or additional assumptions to be able to make progress. In addition, while almost all of the values in the dataset are encoded using numbers, not all of them represent numeric values. Check the third column of the feature summary (`feat_info`) for a summary of types of measurement.\n",
    "- For numeric and interval data, these features can be kept without changes.\n",
    "- Most of the variables in the dataset are ordinal in nature. While ordinal values may technically be non-linear in spacing, make the simplifying assumption that the ordinal variables can be treated as being interval in nature (that is, kept without any changes).\n",
    "- Special handling may be necessary for the remaining two variable types: categorical, and 'mixed'.\n",
    "\n",
    "In the first two parts of this sub-step, you will perform an investigation of the categorical and mixed-type features and make a decision on each of them, whether you will keep, drop, or re-encode each. Then, in the last part, you will create a new data frame with only the selected and engineered columns.\n",
    "\n",
    "Data wrangling is often the trickiest part of the data analysis process, and there's a lot of it to be done here. But stick with it: once you're done with this step, you'll be ready to get to the machine learning parts of the project!"
   ]
  },
  {
   "cell_type": "code",
   "execution_count": 37,
   "metadata": {},
   "outputs": [],
   "source": [
    "# How many features are there of each data type?"
   ]
  },
  {
   "cell_type": "code",
   "execution_count": 38,
   "metadata": {},
   "outputs": [
    {
     "name": "stdout",
     "output_type": "stream",
     "text": [
      "Counter({'ordinal': 49, 'categorical': 21, 'numeric': 7, 'mixed': 7, 'interval': 1})\n"
     ]
    }
   ],
   "source": [
    "# Create counter of number of features/columns per type of measurement\n",
    "feat_types = Counter(feat_info['type'])\n",
    "print(feat_types)"
   ]
  },
  {
   "cell_type": "code",
   "execution_count": 39,
   "metadata": {},
   "outputs": [],
   "source": [
    "# Create dictionary to map feature types to feature/column names\n",
    "feat_types = dict()\n",
    "for f_type in set(feat_info['type']):\n",
    "    feat_types[f_type] = feat_info['attribute'][feat_info['type'] == f_type].tolist()"
   ]
  },
  {
   "cell_type": "markdown",
   "metadata": {},
   "source": [
    "#### Step 1.2.1: Re-Encode Categorical Features\n",
    "\n",
    "For categorical data, you would ordinarily need to encode the levels as dummy variables. Depending on the number of categories, perform one of the following:\n",
    "- For binary (two-level) categoricals that take numeric values, you can keep them without needing to do anything.\n",
    "- There is one binary variable that takes on non-numeric values. For this one, you need to re-encode the values as numbers or create a dummy variable.\n",
    "- For multi-level categoricals (three or more values), you can choose to encode the values using multiple dummy variables (e.g. via [OneHotEncoder](http://scikit-learn.org/stable/modules/generated/sklearn.preprocessing.OneHotEncoder.html)), or (to keep things straightforward) just drop them from the analysis. As always, document your choices in the Discussion section."
   ]
  },
  {
   "cell_type": "code",
   "execution_count": 40,
   "metadata": {},
   "outputs": [],
   "source": [
    "# Assess categorical variables: which are binary, which are multi-level, and\n",
    "# which one needs to be re-encoded?"
   ]
  },
  {
   "cell_type": "code",
   "execution_count": 41,
   "metadata": {},
   "outputs": [
    {
     "name": "stdout",
     "output_type": "stream",
     "text": [
      "Number of categorical variables in working dataset: 18\n"
     ]
    }
   ],
   "source": [
    "# Create dictionary to map categoricals to their set of possible/unique values\n",
    "categoricals_values = dict()\n",
    "\n",
    "# Populate dictionary for all categoricals\n",
    "for feature in feat_types['categorical']:\n",
    "    if feature in azdias_1:\n",
    "        categoricals_values[feature] = azdias_1[feature].dropna().unique().tolist()\n",
    "    else:\n",
    "        continue\n",
    "\n",
    "# Print quantity of categoricals in original data\n",
    "print('Number of categorical variables in working dataset: {}'.format(\n",
    "    len(categoricals_values)))"
   ]
  },
  {
   "cell_type": "code",
   "execution_count": 42,
   "metadata": {
    "scrolled": true
   },
   "outputs": [
    {
     "name": "stdout",
     "output_type": "stream",
     "text": [
      "Number of binary categoricals in working dataset:       5\n",
      "Number of multi-level categoricals in working dataset: 13\n"
     ]
    }
   ],
   "source": [
    "# Create lists to split names of binary and multilevel categoricals\n",
    "feat_types['binary'] = list()\n",
    "feat_types['multilevel'] = list()\n",
    "\n",
    "# Populate lists based on categoricals_values dictionary\n",
    "for categorical, set_values in categoricals_values.items():\n",
    "    if len(set_values) == 2:\n",
    "        feat_types['binary'].append(categorical)\n",
    "    elif len(set_values) > 2:\n",
    "        feat_types['multilevel'].append(categorical)\n",
    "        \n",
    "# Print results\n",
    "print('Number of binary categoricals in working dataset:       {}'.format(\n",
    "    len(feat_types['binary'])))\n",
    "print('Number of multi-level categoricals in working dataset: {}'.format(\n",
    "     len(feat_types['multilevel'])))"
   ]
  },
  {
   "cell_type": "code",
   "execution_count": 43,
   "metadata": {
    "scrolled": true
   },
   "outputs": [
    {
     "name": "stdout",
     "output_type": "stream",
     "text": [
      "Values in feature ANREDE_KZ: \n",
      " [2.0, 1.0] \n",
      "\n",
      "Values in feature GREEN_AVANTGARDE: \n",
      " [0, 1] \n",
      "\n",
      "Values in feature SOHO_KZ: \n",
      " [1.0, 0.0] \n",
      "\n",
      "Values in feature VERS_TYP: \n",
      " [2.0, 1.0] \n",
      "\n",
      "Values in feature OST_WEST_KZ: \n",
      " ['W', 'O'] \n",
      "\n"
     ]
    }
   ],
   "source": [
    "# Investigate the type of values for each binary categorical\n",
    "for feature in feat_types['binary']:\n",
    "    print('Values in feature {}: \\n {} \\n'.format(\n",
    "        feature, categoricals_values[feature]))"
   ]
  },
  {
   "cell_type": "code",
   "execution_count": 44,
   "metadata": {},
   "outputs": [
    {
     "name": "stderr",
     "output_type": "stream",
     "text": [
      "/opt/conda/lib/python3.6/site-packages/ipykernel_launcher.py:6: SettingWithCopyWarning: \n",
      "A value is trying to be set on a copy of a slice from a DataFrame.\n",
      "Try using .loc[row_indexer,col_indexer] = value instead\n",
      "\n",
      "See the caveats in the documentation: http://pandas.pydata.org/pandas-docs/stable/indexing.html#indexing-view-versus-copy\n",
      "  \n"
     ]
    }
   ],
   "source": [
    "# OST_WEST_KZ requires re-encoding since it takes non-numeric values\n",
    "original_feat = 'OST_WEST_KZ'\n",
    "eng_feat = 'OST_WEST_KZ_num'\n",
    "\n",
    "# Re-encode OST_WEST_KZ: 1 for 'W', 0 for 'O'\n",
    "azdias_1[eng_feat] = azdias_1[original_feat].apply(lambda x: 1 if x == 'W' else 0)"
   ]
  },
  {
   "cell_type": "code",
   "execution_count": 45,
   "metadata": {},
   "outputs": [],
   "source": [
    "# Helper function\n",
    "def add_to_reencoded(reencoded_feat, original_feat, eng_feat_list):\n",
    "    \"\"\"\n",
    "    Checks if the names are already in dict reencoded_feat and returns updated version\n",
    "    \n",
    "    INPUT: \n",
    "        reencoded_feat - dict mapping original feature name to list of new feature names\n",
    "        original_feat - original feature name\n",
    "        eng_feat_list - list of new feature names\n",
    "    OUTPUT: \n",
    "        reencoded_feat - with added feature names, if appropriate \n",
    "    \"\"\"\n",
    "    if not isinstance(eng_feat_list, list):\n",
    "        print('Error: The new or engineered features should be in a list.')\n",
    "        return None\n",
    "    if original_feat not in reencoded_feat:\n",
    "        reencoded_feat[original_feat] = eng_feat_list\n",
    "        return reencoded_feat\n",
    "    else:\n",
    "        print('Warning: \"{}\" is already recorded.'.format(original_feat))\n",
    "        for eng_feat in eng_feat_list:\n",
    "            if eng_feat not in reencoded_feat[original_feat]:\n",
    "                print('\"{}\" added to its re-encoded features.'.format(eng_feat))\n",
    "                reencoded_feat[original_feat].append(eng_feat)\n",
    "            else:\n",
    "                continue\n",
    "        return reencoded_feat"
   ]
  },
  {
   "cell_type": "code",
   "execution_count": 46,
   "metadata": {},
   "outputs": [],
   "source": [
    "# Create dictionary to track column/feature engineering\n",
    "# i.e. mapping original feature name to list of new feature names\n",
    "reencoded_feat = dict()"
   ]
  },
  {
   "cell_type": "code",
   "execution_count": 47,
   "metadata": {},
   "outputs": [],
   "source": [
    "# Keep track of outlier columns from previous section - i.e. > 40% missing values\n",
    "# Add to reencoded_feat\n",
    "for feature in outliers:\n",
    "    add_to_reencoded(reencoded_feat, feature, [])"
   ]
  },
  {
   "cell_type": "code",
   "execution_count": 48,
   "metadata": {},
   "outputs": [
    {
     "data": {
      "text/plain": [
       "{'AGER_TYP': [],\n",
       " 'GEBURTSJAHR': [],\n",
       " 'TITEL_KZ': [],\n",
       " 'ALTER_HH': [],\n",
       " 'KK_KUNDENTYP': [],\n",
       " 'KBA05_BAUMAX': [],\n",
       " 'OST_WEST_KZ': ['OST_WEST_KZ_num']}"
      ]
     },
     "execution_count": 48,
     "metadata": {},
     "output_type": "execute_result"
    }
   ],
   "source": [
    "# Keep track of re-encoded binary categorical\n",
    "# Add to reencoded_feat\n",
    "add_to_reencoded(reencoded_feat, original_feat, [eng_feat])"
   ]
  },
  {
   "cell_type": "markdown",
   "metadata": {},
   "source": [
    "#### Discussion 1.2.1: Re-Encode Categorical Features\n",
    "\n",
    "The feat_info table indicates that the original data includes 5 general types of measurements: \n",
    "- ordinal - 49 columns\n",
    "- categorical - 21 columns\n",
    "- numeric - 7 columns\n",
    "- mixed - 7 columns\n",
    "- interval - 1 column.\n",
    "\n",
    "Of the original 21 categoricals, 3 were dropped in the previous section due to large proportions of missing values. In Step 1.2.1, I work with the set of remaining 18 categoricals: \n",
    "- 13 multi-level\n",
    "- 5 binary. \n",
    "\n",
    "I follow the recommendation for simplicity and drop the 13 multi-level categoricals. I also re-encode the binary type that takes on string values: 'W'==1 and 'O'==0.\n",
    "\n",
    "Finally, I use a dictionary to keep track of the re-encoding of features, mapping the original column names to the re-encoded or new column names. "
   ]
  },
  {
   "cell_type": "markdown",
   "metadata": {},
   "source": [
    "#### Step 1.2.2: Engineer Mixed-Type Features\n",
    "\n",
    "There are a handful of features that are marked as \"mixed\" in the feature summary that require special treatment in order to be included in the analysis. There are two in particular that deserve attention; the handling of the rest are up to your own choices:\n",
    "- \"PRAEGENDE_JUGENDJAHRE\" combines information on three dimensions: generation by decade, movement (mainstream vs. avantgarde), and nation (east vs. west). While there aren't enough levels to disentangle east from west, you should create two new variables to capture the other two dimensions: an interval-type variable for decade, and a binary variable for movement.\n",
    "- \"CAMEO_INTL_2015\" combines information on two axes: wealth and life stage. Break up the two-digit codes by their 'tens'-place and 'ones'-place digits into two new ordinal variables (which, for the purposes of this project, is equivalent to just treating them as their raw numeric values).\n",
    "- If you decide to keep or engineer new features around the other mixed-type features, make sure you note your steps in the Discussion section.\n",
    "\n",
    "Be sure to check `Data_Dictionary.md` for the details needed to finish these tasks."
   ]
  },
  {
   "cell_type": "code",
   "execution_count": 49,
   "metadata": {},
   "outputs": [
    {
     "name": "stdout",
     "output_type": "stream",
     "text": [
      "Number of mixed-type variables in original dataset: 7\n"
     ]
    }
   ],
   "source": [
    "# Print quantity of mixed-type variables in original data\n",
    "print('Number of mixed-type variables in original dataset: {}'.format(\n",
    "    len(feat_types['mixed'])))"
   ]
  },
  {
   "cell_type": "code",
   "execution_count": 50,
   "metadata": {},
   "outputs": [],
   "source": [
    "# Investigate \"PRAEGENDE_JUGENDJAHRE\" and engineer two new variables.\n",
    "original_feat = 'PRAEGENDE_JUGENDJAHRE'"
   ]
  },
  {
   "cell_type": "code",
   "execution_count": 51,
   "metadata": {},
   "outputs": [
    {
     "name": "stdout",
     "output_type": "stream",
     "text": [
      "Values in feature PRAEGENDE_JUGENDJAHRE: \n",
      " [14.0, 15.0, 8.0, 3.0, 10.0, 11.0, 5.0, 9.0, 6.0, 4.0, 2.0, 1.0, 12.0, 13.0, 7.0] \n",
      "\n",
      "which are of types: \n",
      " {<class 'float'>}\n"
     ]
    }
   ],
   "source": [
    "# Print set of unique values in \"PRAEGENDE_JUGENDJAHRE\"\n",
    "feature_values = azdias_1[original_feat].dropna().unique().tolist()\n",
    "print('Values in feature {}: \\n {} \\n'.format(\n",
    "    original_feat, feature_values))\n",
    "print('which are of types: \\n {}'.format(\n",
    "    set([type(x) for x in feature_values])))"
   ]
  },
  {
   "cell_type": "code",
   "execution_count": 52,
   "metadata": {},
   "outputs": [
    {
     "name": "stdout",
     "output_type": "stream",
     "text": [
      "4\n"
     ]
    }
   ],
   "source": [
    "# Helper function\n",
    "def decade(value):\n",
    "    \"\"\"\n",
    "    Transforms values from floats to interval objects\n",
    "    to re-encode the 'decade' dimension of PRAEGENDE_JUGENDJAHRE\n",
    "    \n",
    "    INPUT: \n",
    "        value - feature value (float)\n",
    "    OUTPUT: \n",
    "        re-encoded interval object \n",
    "    \"\"\"\n",
    "    if value in set([1.0, 2.0]):\n",
    "        return 0\n",
    "    elif value in set([3.0, 4.0]):\n",
    "        return 1\n",
    "    elif value in set([5.0, 6.0, 7.0]):\n",
    "        return 2\n",
    "    elif value in set([8.0, 9.0]):\n",
    "        return 3\n",
    "    elif value in set([10.0, 11.0, 12.0, 13.0]):\n",
    "        return 4\n",
    "    elif value in set([14.0, 15.0]):\n",
    "        return 5\n",
    "    else:\n",
    "        return value\n",
    "\n",
    "# Test function    \n",
    "print(decade(10.0))"
   ]
  },
  {
   "cell_type": "code",
   "execution_count": 53,
   "metadata": {},
   "outputs": [
    {
     "name": "stderr",
     "output_type": "stream",
     "text": [
      "/opt/conda/lib/python3.6/site-packages/ipykernel_launcher.py:3: SettingWithCopyWarning: \n",
      "A value is trying to be set on a copy of a slice from a DataFrame.\n",
      "Try using .loc[row_indexer,col_indexer] = value instead\n",
      "\n",
      "See the caveats in the documentation: http://pandas.pydata.org/pandas-docs/stable/indexing.html#indexing-view-versus-copy\n",
      "  This is separate from the ipykernel package so we can avoid doing imports until\n"
     ]
    }
   ],
   "source": [
    "# Re-encode \"PRAEGENDE_JUGENDJAHRE\" - \"decade\" dimension\n",
    "eng_feat_1 = 'PRAEGENDE_JUGENDJAHRE_decade'\n",
    "azdias_1[eng_feat_1] = azdias_1[original_feat].apply(decade)"
   ]
  },
  {
   "cell_type": "code",
   "execution_count": 54,
   "metadata": {},
   "outputs": [],
   "source": [
    "# Helper function\n",
    "def movement(value):\n",
    "    \"\"\"\n",
    "    Transforms values from floats to binary objects\n",
    "    to re-encode the 'movement' dimension of PRAEGENDE_JUGENDJAHRE\n",
    "    \n",
    "    INPUT: \n",
    "        value - feature value (float)\n",
    "    OUTPUT: \n",
    "        re-encoded binary object \n",
    "    \"\"\"\n",
    "    # Create the two sets of values that separate the \"movement\" dimension\n",
    "    mainstream = set([1.0, 3.0, 5.0, 8.0, 10.0, 12.0, 14.0])\n",
    "    avantgarde = set([2.0, 4.0, 6.0, 7.0, 9.0, 11.0, 13.0, 15.0])\n",
    "\n",
    "    if value in avantgarde:\n",
    "        return 1\n",
    "    elif value in mainstream:\n",
    "        return 0\n",
    "    else:\n",
    "        return value"
   ]
  },
  {
   "cell_type": "code",
   "execution_count": 55,
   "metadata": {},
   "outputs": [
    {
     "name": "stderr",
     "output_type": "stream",
     "text": [
      "/opt/conda/lib/python3.6/site-packages/ipykernel_launcher.py:3: SettingWithCopyWarning: \n",
      "A value is trying to be set on a copy of a slice from a DataFrame.\n",
      "Try using .loc[row_indexer,col_indexer] = value instead\n",
      "\n",
      "See the caveats in the documentation: http://pandas.pydata.org/pandas-docs/stable/indexing.html#indexing-view-versus-copy\n",
      "  This is separate from the ipykernel package so we can avoid doing imports until\n"
     ]
    }
   ],
   "source": [
    "# Re-encode \"PRAEGENDE_JUGENDJAHRE\" - \"movement\" dimension\n",
    "eng_feat_2 = 'PRAEGENDE_JUGENDJAHRE_movement'\n",
    "azdias_1[eng_feat_2] = azdias_1[original_feat].apply(movement)"
   ]
  },
  {
   "cell_type": "code",
   "execution_count": 56,
   "metadata": {},
   "outputs": [],
   "source": [
    "# Keep track of re-encoded mixed-type variables\n",
    "# Add to reencoded_feat\n",
    "add_to_reencoded(reencoded_feat, original_feat, [eng_feat_1, eng_feat_2]);"
   ]
  },
  {
   "cell_type": "code",
   "execution_count": 57,
   "metadata": {},
   "outputs": [],
   "source": [
    "# Investigate \"CAMEO_INTL_2015\" and engineer two new variables.\n",
    "original_feat = 'CAMEO_INTL_2015'"
   ]
  },
  {
   "cell_type": "code",
   "execution_count": 58,
   "metadata": {
    "scrolled": true
   },
   "outputs": [
    {
     "name": "stdout",
     "output_type": "stream",
     "text": [
      "Values in feature CAMEO_INTL_2015: \n",
      " ['51', '24', '12', '43', '54', '22', '14', '13', '15', '33', '41', '34', '55', '25', '23', '31', '52', '35', '45', '44', '32'] \n",
      "\n",
      "which are of types: \n",
      " {<class 'str'>}\n"
     ]
    }
   ],
   "source": [
    "# Print set of unique values in \"CAMEO_INTL_2015\"\n",
    "feature_values = azdias_1[original_feat].dropna().unique().tolist()\n",
    "print('Values in feature {}: \\n {} \\n'.format(\n",
    "    original_feat, feature_values))\n",
    "print('which are of types: \\n {}'.format(\n",
    "    set([type(x) for x in feature_values])))"
   ]
  },
  {
   "cell_type": "code",
   "execution_count": 59,
   "metadata": {},
   "outputs": [
    {
     "name": "stderr",
     "output_type": "stream",
     "text": [
      "/opt/conda/lib/python3.6/site-packages/ipykernel_launcher.py:4: SettingWithCopyWarning: \n",
      "A value is trying to be set on a copy of a slice from a DataFrame.\n",
      "Try using .loc[row_indexer,col_indexer] = value instead\n",
      "\n",
      "See the caveats in the documentation: http://pandas.pydata.org/pandas-docs/stable/indexing.html#indexing-view-versus-copy\n",
      "  after removing the cwd from sys.path.\n"
     ]
    }
   ],
   "source": [
    "# Re-encode \"CAMEO_INTL_2015\" - \"wealth\" dimension\n",
    "eng_feat_1 = 'CAMEO_INTL_2015_wealth'\n",
    "azdias_1[eng_feat_1] = azdias_1[original_feat].apply(\n",
    "                       lambda x: int(x[0]) if isinstance(x, str) else x)"
   ]
  },
  {
   "cell_type": "code",
   "execution_count": 60,
   "metadata": {},
   "outputs": [
    {
     "name": "stderr",
     "output_type": "stream",
     "text": [
      "/opt/conda/lib/python3.6/site-packages/ipykernel_launcher.py:4: SettingWithCopyWarning: \n",
      "A value is trying to be set on a copy of a slice from a DataFrame.\n",
      "Try using .loc[row_indexer,col_indexer] = value instead\n",
      "\n",
      "See the caveats in the documentation: http://pandas.pydata.org/pandas-docs/stable/indexing.html#indexing-view-versus-copy\n",
      "  after removing the cwd from sys.path.\n"
     ]
    }
   ],
   "source": [
    "# Re-encode \"CAMEO_INTL_2015\" - \"stage\" dimension\n",
    "eng_feat_2 = 'CAMEO_INTL_2015_stage'\n",
    "azdias_1[eng_feat_2] = azdias_1[original_feat].apply(\n",
    "                       lambda x: int(x[1]) if isinstance(x, str) else x)"
   ]
  },
  {
   "cell_type": "code",
   "execution_count": 61,
   "metadata": {
    "scrolled": true
   },
   "outputs": [],
   "source": [
    "add_to_reencoded(reencoded_feat, original_feat, [eng_feat_1, eng_feat_2]);"
   ]
  },
  {
   "cell_type": "code",
   "execution_count": 108,
   "metadata": {},
   "outputs": [],
   "source": [
    "# Investigate \"WOHNLAGE\" and engineer two new variables.\n",
    "original_feat = 'WOHNLAGE'"
   ]
  },
  {
   "cell_type": "code",
   "execution_count": 109,
   "metadata": {},
   "outputs": [
    {
     "name": "stdout",
     "output_type": "stream",
     "text": [
      "Values in feature WOHNLAGE: \n",
      " [4.0, 2.0, 7.0, 3.0, 5.0, 1.0, 8.0, 0.0] \n",
      "\n",
      "which are of types: \n",
      " {<class 'float'>}\n"
     ]
    }
   ],
   "source": [
    "# Print set of unique values in \"WOHNLAGE\"\n",
    "feature_values = azdias_1[original_feat].dropna().unique().tolist()\n",
    "print('Values in feature {}: \\n {} \\n'.format(\n",
    "    original_feat, feature_values))\n",
    "print('which are of types: \\n {}'.format(\n",
    "    set([type(x) for x in feature_values])))"
   ]
  },
  {
   "cell_type": "code",
   "execution_count": 110,
   "metadata": {},
   "outputs": [
    {
     "name": "stdout",
     "output_type": "stream",
     "text": [
      "0\n"
     ]
    }
   ],
   "source": [
    "# Helper function\n",
    "def neighborhood(value):\n",
    "    \"\"\"\n",
    "    Re-encodes the 'neighborhood quality' dimension of WOHNLAGE\n",
    "    \n",
    "    INPUT: \n",
    "        value - \"WOHNLAGE\" attribute\n",
    "    OUTPUT: \n",
    "        re-encoded neighborhood quality\n",
    "    \"\"\"\n",
    "    if np.isnan(value): \n",
    "        return value\n",
    "    if value in [1., 2., 3., 4., 5.]: \n",
    "        return value\n",
    "    else: \n",
    "        return 0\n",
    "\n",
    "# Test function    \n",
    "print(neighborhood(8.0))"
   ]
  },
  {
   "cell_type": "code",
   "execution_count": 111,
   "metadata": {},
   "outputs": [
    {
     "name": "stderr",
     "output_type": "stream",
     "text": [
      "/opt/conda/lib/python3.6/site-packages/ipykernel_launcher.py:3: SettingWithCopyWarning: \n",
      "A value is trying to be set on a copy of a slice from a DataFrame.\n",
      "Try using .loc[row_indexer,col_indexer] = value instead\n",
      "\n",
      "See the caveats in the documentation: http://pandas.pydata.org/pandas-docs/stable/indexing.html#indexing-view-versus-copy\n",
      "  This is separate from the ipykernel package so we can avoid doing imports until\n"
     ]
    }
   ],
   "source": [
    "# Re-encode \"WOHNLAGE\" - \"neighborhood quality\" dimension\n",
    "eng_feat_1 = 'WOHNLAGE_neighborhood'\n",
    "azdias_1[eng_feat_1] = azdias_1[original_feat].apply(neighborhood)"
   ]
  },
  {
   "cell_type": "code",
   "execution_count": 112,
   "metadata": {},
   "outputs": [
    {
     "name": "stdout",
     "output_type": "stream",
     "text": [
      "2\n"
     ]
    }
   ],
   "source": [
    "# Helper function\n",
    "def rural(value):\n",
    "    \"\"\"\n",
    "    Re-encodes the 'rural flag' dimension of WOHNLAGE\n",
    "    \n",
    "    INPUT: \n",
    "        value - \"WOHNLAGE\" attribute\n",
    "    OUTPUT: \n",
    "        re-encoded rural flag\n",
    "    \"\"\"\n",
    "    if np.isnan(value): \n",
    "        return value\n",
    "    elif value == 7: \n",
    "        return 1\n",
    "    elif value == 8: \n",
    "        return 2\n",
    "    else: \n",
    "        return 0\n",
    "\n",
    "# Test function    \n",
    "print(rural(8.0))"
   ]
  },
  {
   "cell_type": "code",
   "execution_count": 113,
   "metadata": {
    "scrolled": true
   },
   "outputs": [
    {
     "name": "stderr",
     "output_type": "stream",
     "text": [
      "/opt/conda/lib/python3.6/site-packages/ipykernel_launcher.py:3: SettingWithCopyWarning: \n",
      "A value is trying to be set on a copy of a slice from a DataFrame.\n",
      "Try using .loc[row_indexer,col_indexer] = value instead\n",
      "\n",
      "See the caveats in the documentation: http://pandas.pydata.org/pandas-docs/stable/indexing.html#indexing-view-versus-copy\n",
      "  This is separate from the ipykernel package so we can avoid doing imports until\n"
     ]
    }
   ],
   "source": [
    "# Re-encode \"WOHNLAGE\" - \"rural flag\" dimension\n",
    "eng_feat_2 = 'WOHNLAGE_rural'\n",
    "azdias_1[eng_feat_2] = azdias_1[original_feat].apply(rural)"
   ]
  },
  {
   "cell_type": "code",
   "execution_count": 68,
   "metadata": {},
   "outputs": [
    {
     "data": {
      "text/plain": [
       "{'AGER_TYP': [],\n",
       " 'GEBURTSJAHR': [],\n",
       " 'TITEL_KZ': [],\n",
       " 'ALTER_HH': [],\n",
       " 'KK_KUNDENTYP': [],\n",
       " 'KBA05_BAUMAX': [],\n",
       " 'OST_WEST_KZ': ['OST_WEST_KZ_num'],\n",
       " 'PRAEGENDE_JUGENDJAHRE': ['PRAEGENDE_JUGENDJAHRE_decade',\n",
       "  'PRAEGENDE_JUGENDJAHRE_movement'],\n",
       " 'CAMEO_INTL_2015': ['CAMEO_INTL_2015_wealth', 'CAMEO_INTL_2015_stage'],\n",
       " 'WOHNLAGE': ['WOHNLAGE_neighborhood', 'WOHNLAGE_rural']}"
      ]
     },
     "execution_count": 68,
     "metadata": {},
     "output_type": "execute_result"
    }
   ],
   "source": [
    "add_to_reencoded(reencoded_feat, original_feat, [eng_feat_1, eng_feat_2])"
   ]
  },
  {
   "cell_type": "markdown",
   "metadata": {},
   "source": [
    "#### Discussion 1.2.2: Engineer Mixed-Type Features\n",
    "\n",
    "For the handful of features that are marked as *mixed* in the feature summary, I also follow the recommendation for simplicity; that is, I drop most of them and only re-encode and keep three in the analysis: \"PRAEGENDE_JUGENDJAHRE\", \"CAMEO_INTL_2015\", and \"WOHNLAGE\".\n",
    "\n",
    "- \"PRAEGENDE_JUGENDJAHRE\" is re-encoded into \"PRAEGENDE_JUGENDJAHRE_decade\" (interval) and \"PRAEGENDE_JUGENDJAHRE_movement\" (binary).\n",
    "\n",
    "- \"CAMEO_INTL_2015\" is re-encoded into two multi-level categoricals: \"CAMEO_INTL_2015_wealth\" and \"CAMEO_INTL_2015_stage\".\n",
    "\n",
    "- \"WOHNLAGE\" is re-encoded into two multi-level categoricals: \"WOHNLAGE_neighborhood\" and \"WOHNLAGE_rural\". \n",
    "\n",
    "**Note**: I keep \"WOHNLAGE\" based on a recommendation by my project reviewer."
   ]
  },
  {
   "cell_type": "markdown",
   "metadata": {},
   "source": [
    "#### Step 1.2.3: Complete Feature Selection\n",
    "\n",
    "In order to finish this step up, you need to make sure that your data frame now only has the columns that you want to keep. To summarize, the dataframe should consist of the following:\n",
    "- All numeric, interval, and ordinal type columns from the original dataset.\n",
    "- Binary categorical features (all numerically-encoded).\n",
    "- Engineered features from other multi-level categorical features and mixed features.\n",
    "\n",
    "Make sure that for any new columns that you have engineered, that you've excluded the original columns from the final dataset. Otherwise, their values will interfere with the analysis later on the project. For example, you should not keep \"PRAEGENDE_JUGENDJAHRE\", since its values won't be useful for the algorithm: only the values derived from it in the engineered features you created should be retained. As a reminder, your data should only be from **the subset with few or no missing values**."
   ]
  },
  {
   "cell_type": "code",
   "execution_count": 114,
   "metadata": {},
   "outputs": [],
   "source": [
    "# If there are other re-engineering tasks you need to perform, make sure you\n",
    "# take care of them here. (Dealing with missing data will come in step 2.1.)"
   ]
  },
  {
   "cell_type": "code",
   "execution_count": 115,
   "metadata": {},
   "outputs": [
    {
     "name": "stdout",
     "output_type": "stream",
     "text": [
      "Number of features selected so far: 57\n"
     ]
    }
   ],
   "source": [
    "# Create empty list to keep track of feature selection \n",
    "feature_selection = list()\n",
    "\n",
    "# Append all numeric, interval, and ordinal type columns\n",
    "# from the original dataset\n",
    "for f_type in ['numeric', 'interval', 'ordinal']:\n",
    "    for f_name in feat_types[f_type]:\n",
    "        feature_selection.append(f_name)\n",
    "\n",
    "# Print feature selection\n",
    "print('Number of features selected so far: {}'.format(\n",
    "    len(feature_selection)))"
   ]
  },
  {
   "cell_type": "code",
   "execution_count": 116,
   "metadata": {},
   "outputs": [
    {
     "name": "stdout",
     "output_type": "stream",
     "text": [
      "Number of selected binary categoricals: 5\n",
      "Number of features selected so far:    62\n"
     ]
    }
   ],
   "source": [
    "# Append binary type columns \n",
    "for f_name in feat_types['binary']:\n",
    "    feature_selection.append(f_name)\n",
    "\n",
    "# Print feature selection\n",
    "print('Number of selected binary categoricals: {}'.format(\n",
    "    len(feat_types['binary'])))\n",
    "print('Number of features selected so far:    {}'.format(\n",
    "    len(feature_selection)))"
   ]
  },
  {
   "cell_type": "code",
   "execution_count": 117,
   "metadata": {},
   "outputs": [
    {
     "name": "stdout",
     "output_type": "stream",
     "text": [
      "Number of newly encoded variables:   7\n",
      "Number of features selected so far: 69\n"
     ]
    }
   ],
   "source": [
    "# Append new re-encoded columns \n",
    "count = 0\n",
    "for list_new_f in reencoded_feat.values():\n",
    "    for f_name in list_new_f:\n",
    "        feature_selection.append(f_name)\n",
    "        count += 1\n",
    "\n",
    "# Print feature selection\n",
    "print('Number of newly encoded variables:   {}'.format(count))\n",
    "print('Number of features selected so far: {}'.format(\n",
    "    len(feature_selection)))"
   ]
  },
  {
   "cell_type": "code",
   "execution_count": 118,
   "metadata": {},
   "outputs": [
    {
     "name": "stdout",
     "output_type": "stream",
     "text": [
      "Number of features selected so far: 66\n"
     ]
    }
   ],
   "source": [
    "# Drop original features that were re-encoded \n",
    "# or removed due to missing data\n",
    "feature_selection = [feature for feature in feature_selection \n",
    "                     if feature not in reencoded_feat.keys()]\n",
    "\n",
    "# Print feature selection\n",
    "print('Number of features selected so far: {}'.format(\n",
    "    len(feature_selection)))"
   ]
  },
  {
   "cell_type": "code",
   "execution_count": 120,
   "metadata": {},
   "outputs": [],
   "source": [
    "# Do whatever you need to in order to ensure that the dataframe only contains\n",
    "# the columns that should be passed to the algorithm functions."
   ]
  },
  {
   "cell_type": "code",
   "execution_count": 121,
   "metadata": {},
   "outputs": [],
   "source": [
    "# Make list of features to drop from working dataset\n",
    "drop_list = [col for col in azdias_1.columns.tolist() if col not in feature_selection]\n",
    "# Drop columns from azdias_1 to get the clean, engineered dataset\n",
    "azdias_eng = azdias_1.drop(inplace=False, axis=1, labels=drop_list)"
   ]
  },
  {
   "cell_type": "code",
   "execution_count": 122,
   "metadata": {},
   "outputs": [
    {
     "name": "stdout",
     "output_type": "stream",
     "text": [
      "Shape of dataset after feature selection: 771,701 x 66\n"
     ]
    }
   ],
   "source": [
    "# Print dimensions of working dataset\n",
    "print('Shape of dataset after feature selection: {:,} x {}'.format(\n",
    "    azdias_eng.shape[0], azdias_eng.shape[1]))"
   ]
  },
  {
   "cell_type": "markdown",
   "metadata": {},
   "source": [
    "### Step 1.3: Create a Cleaning Function\n",
    "\n",
    "Even though you've finished cleaning up the general population demographics data, it's important to look ahead to the future and realize that you'll need to perform the same cleaning steps on the customer demographics data. In this substep, complete the function below to execute the main feature selection, encoding, and re-engineering steps you performed above. Then, when it comes to looking at the customer data in Step 3, you can just run this function on that DataFrame to get the trimmed dataset in a single step."
   ]
  },
  {
   "cell_type": "code",
   "execution_count": 123,
   "metadata": {},
   "outputs": [],
   "source": [
    "def clean_data(df):\n",
    "    \"\"\"\n",
    "    Perform feature trimming, re-encoding, and engineering for demographics\n",
    "    data\n",
    "    \n",
    "    INPUT: Demographics DataFrame\n",
    "    OUTPUT: Trimmed and cleaned demographics DataFrame\n",
    "    \"\"\"\n",
    "    # Put in code here to execute all main cleaning steps:\n",
    "    # convert missing value codes into NaNs, ...\n",
    "    for feature in df:\n",
    "        # retrieve list of codes for missing values from feat_info\n",
    "        nan_codes = feat_info.loc[feat_info['attribute'] == feature, 'missing_codes'].iloc[0]\n",
    "        # loop through list of codes\n",
    "        for code in nan_codes:\n",
    "            if code == '': continue\n",
    "            # transform code from string to integer \n",
    "            if code.isnumeric() or code.lstrip('-').isnumeric():\n",
    "                code = int(code)\n",
    "            # replace coded values in df dataframe with numpy NaN\n",
    "            index = df[feature] == code\n",
    "            df.loc[index, feature] = np.nan\n",
    "\n",
    "    # remove selected columns and rows, ...\n",
    "    \n",
    "    ## drop columns with more than 20% missing values\n",
    "    drop_cols = ['AGER_TYP', 'GEBURTSJAHR', 'TITEL_KZ',\n",
    "                 'TITEL_KZ', 'KK_KUNDENTYP', 'KBA05_BAUMAX']\n",
    "    df.drop(labels=drop_cols, axis=1, inplace=True)  \n",
    "    \n",
    "    ## Count missing values per row \n",
    "    count_missing = df.isnull().sum(axis=1)\n",
    "    # Get indices for rows with less than 9 missing features\n",
    "    bool_idx = (count_missing < 9)\n",
    "    ## Drop these rows to get a 'clean' DataFrame\n",
    "    df = df[bool_idx]\n",
    "    \n",
    "    # select, re-encode, and engineer column values.\n",
    "\n",
    "    ## Re-encode OST_WEST_KZ: 1 for 'W', 0 for 'O'\n",
    "    original_feat = 'OST_WEST_KZ'\n",
    "    eng_feat = 'OST_WEST_KZ_num'\n",
    "    df[eng_feat] = df[original_feat].apply(lambda x: 1 if x == 'W' else 0)\n",
    "    ## Re-encode \"PRAEGENDE_JUGENDJAHRE\" - \"decade\" dimension\n",
    "    original_feat = 'PRAEGENDE_JUGENDJAHRE'\n",
    "    eng_feat_1 = 'PRAEGENDE_JUGENDJAHRE_decade'\n",
    "    df[eng_feat_1] = df[original_feat].apply(decade)\n",
    "    ## Re-encode \"PRAEGENDE_JUGENDJAHRE\" - \"movement\" dimension\n",
    "    eng_feat_2 = 'PRAEGENDE_JUGENDJAHRE_movement'\n",
    "    df[eng_feat_2] = df[original_feat].apply(movement)\n",
    "    ## Re-encode \"CAMEO_INTL_2015\"\n",
    "    original_feat = 'CAMEO_INTL_2015'\n",
    "    eng_feat_1 = 'CAMEO_INTL_2015_wealth'\n",
    "    df[eng_feat_1] = df[original_feat].apply(\n",
    "                       lambda x: int(x[0]) if isinstance(x, str) else x)\n",
    "    eng_feat_2 = 'CAMEO_INTL_2015_stage'\n",
    "    df[eng_feat_2] = df[original_feat].apply(\n",
    "                       lambda x: int(x[1]) if isinstance(x, str) else x)\n",
    "    ## Re-encode \"WOHNLAGE\"\n",
    "    original_feat = 'WOHNLAGE'\n",
    "    eng_feat_1 = 'WOHNLAGE_neighborhood'\n",
    "    df[eng_feat_1] = df[original_feat].apply(neighborhood)\n",
    "    eng_feat_2 = 'WOHNLAGE_rural'\n",
    "    df[eng_feat_2] = df[original_feat].apply(rural)\n",
    "\n",
    "    # Return the cleaned dataframe.\n",
    "\n",
    "    ## Make list of features to drop from working dataset\n",
    "    drop_list = [col for col in df.columns.tolist() \n",
    "                    if col not in feature_selection]\n",
    "    ## Drop columns from df, in place\n",
    "    df.drop(inplace=True, axis=1, labels=drop_list)\n",
    "    return df "
   ]
  },
  {
   "cell_type": "markdown",
   "metadata": {},
   "source": [
    "## Step 2: Feature Transformation\n",
    "\n",
    "### Step 2.1: Apply Feature Scaling\n",
    "\n",
    "Before we apply dimensionality reduction techniques to the data, we need to perform feature scaling so that the principal component vectors are not influenced by the natural differences in scale for features. Starting from this part of the project, you'll want to keep an eye on the [API reference page for sklearn](http://scikit-learn.org/stable/modules/classes.html) to help you navigate to all of the classes and functions that you'll need. In this substep, you'll need to check the following:\n",
    "\n",
    "- sklearn requires that data not have missing values in order for its estimators to work properly. So, before applying the scaler to your data, make sure that you've cleaned the DataFrame of the remaining missing values. This can be as simple as just removing all data points with missing data, or applying an [Imputer](http://scikit-learn.org/stable/modules/generated/sklearn.preprocessing.Imputer.html) to replace all missing values. You might also try a more complicated procedure where you temporarily remove missing values in order to compute the scaling parameters before re-introducing those missing values and applying imputation. Think about how much missing data you have and what possible effects each approach might have on your analysis, and justify your decision in the discussion section below.\n",
    "- For the actual scaling function, a [StandardScaler](http://scikit-learn.org/stable/modules/generated/sklearn.preprocessing.StandardScaler.html) instance is suggested, scaling each feature to mean 0 and standard deviation 1.\n",
    "- For these classes, you can make use of the `.fit_transform()` method to both fit a procedure to the data as well as apply the transformation to the data at the same time. Don't forget to keep the fit sklearn objects handy, since you'll be applying them to the customer demographics data towards the end of the project."
   ]
  },
  {
   "cell_type": "code",
   "execution_count": 124,
   "metadata": {},
   "outputs": [],
   "source": [
    "# If you've not yet cleaned the dataset of all NaN values, then investigate and\n",
    "# do that now."
   ]
  },
  {
   "cell_type": "code",
   "execution_count": 125,
   "metadata": {
    "scrolled": true
   },
   "outputs": [],
   "source": [
    "# Apply imputation to full dataset\n",
    "imputer = Imputer(missing_values=\"NaN\", strategy=\"median\", axis=0)\n",
    "azdias_imp = imputer.fit_transform(azdias_eng)"
   ]
  },
  {
   "cell_type": "code",
   "execution_count": 126,
   "metadata": {},
   "outputs": [],
   "source": [
    "# Temporarily remove missing values\n",
    "azdias_temp = azdias_eng.dropna(axis='index', inplace=False)\n",
    "# Compute the scaling parameters\n",
    "scaler = StandardScaler().fit(azdias_temp)"
   ]
  },
  {
   "cell_type": "code",
   "execution_count": 127,
   "metadata": {},
   "outputs": [],
   "source": [
    "# Apply feature scaling to the general population demographics data.\n",
    "azdias_scaled = scaler.transform(azdias_imp)"
   ]
  },
  {
   "cell_type": "markdown",
   "metadata": {},
   "source": [
    "### Discussion 2.1: Apply Feature Scaling\n",
    "\n",
    "I decided to temporarily remove missing values in order to compute the scaling parameters. \n",
    "\n",
    "I create a new dataset by fitting the Imputer (using the median) and transforming the \"azdian\" dataset. Separately, I fit the scaler to the temporary dataset with removed missing values. I then apply this scaler to the dataset with imputed values. \n",
    "\n",
    "My intuition says that this option makes the missing values less influential in the distribution of features, since the corresponding imputed values are not used to estimate the parameters needed to perform feature scaling. "
   ]
  },
  {
   "cell_type": "markdown",
   "metadata": {},
   "source": [
    "### Step 2.2: Perform Dimensionality Reduction\n",
    "\n",
    "On your scaled data, you are now ready to apply dimensionality reduction techniques.\n",
    "\n",
    "- Use sklearn's [PCA](http://scikit-learn.org/stable/modules/generated/sklearn.decomposition.PCA.html) class to apply principal component analysis on the data, thus finding the vectors of maximal variance in the data. To start, you should not set any parameters (so all components are computed) or set a number of components that is at least half the number of features (so there's enough features to see the general trend in variability).\n",
    "- Check out the ratio of variance explained by each principal component as well as the cumulative variance explained. Try plotting the cumulative or sequential values using matplotlib's [`plot()`](https://matplotlib.org/api/_as_gen/matplotlib.pyplot.plot.html) function. Based on what you find, select a value for the number of transformed features you'll retain for the clustering part of the project.\n",
    "- Once you've made a choice for the number of components to keep, make sure you re-fit a PCA instance to perform the decided-on transformation."
   ]
  },
  {
   "cell_type": "code",
   "execution_count": 130,
   "metadata": {},
   "outputs": [
    {
     "name": "stdout",
     "output_type": "stream",
     "text": [
      "Shape of azdias_pca: 771,701 x 66\n"
     ]
    }
   ],
   "source": [
    "# Apply PCA to the data.\n",
    "\n",
    "## Fit and transform using pca\n",
    "pca = PCA()\n",
    "azdias_pca = pca.fit_transform(azdias_scaled)\n",
    "print('Shape of azdias_pca: {:,} x {}'.format(\n",
    "        azdias_pca.shape[0], azdias_pca.shape[1]))"
   ]
  },
  {
   "cell_type": "code",
   "execution_count": 131,
   "metadata": {},
   "outputs": [],
   "source": [
    "# Investigate the variance accounted for by each principal component."
   ]
  },
  {
   "cell_type": "code",
   "execution_count": 132,
   "metadata": {},
   "outputs": [],
   "source": [
    "# Helper function to plot the variance explained by PCA\n",
    "def scree_plot(pca, num_components='all'):\n",
    "    \"\"\"\n",
    "    Creates a scree plot associated with the principal components \n",
    "    \n",
    "    INPUT: pca - the result PCA fit in scikit learn\n",
    "            \n",
    "    OUTPUT: None\n",
    "    \"\"\"\n",
    "    \n",
    "    if num_components == 'all':\n",
    "        num_components = len(pca.explained_variance_ratio_)\n",
    "    ind = np.arange(num_components)[0:num_components]\n",
    "    vals = pca.explained_variance_ratio_[0:num_components]\n",
    " \n",
    "    plt.figure(figsize=(10, 6))\n",
    "    ax1 = plt.subplot(111)\n",
    "    ax1.bar(ind, vals, color='c')\n",
    "    for i in range(num_components):\n",
    "        ax1.annotate(r\"%s\" % (str(vals[i]*100)[:4]), (ind[i]+0.2, vals[i]), \n",
    "                    va=\"bottom\", ha=\"center\", fontsize=8)\n",
    "    \n",
    "    ax2 = ax1.twinx()\n",
    "    cumvals = np.cumsum(vals)\n",
    "    ax2.plot(ind, cumvals, color='r')\n",
    "    \n",
    "    ax1.xaxis.set_tick_params(width=0)\n",
    "    ax1.yaxis.set_tick_params(width=2, length=12, color='c')\n",
    "    ax2.yaxis.set_tick_params(width=2, length=12, color='r')\n",
    " \n",
    "    ax1.set_xlabel(\"Principal Component\")\n",
    "    ax1.set_ylabel(\"Ratio of Variance Explained (%)\")\n",
    "    ax2.set_ylabel(\"Cumulative Variance Explained (%)\")\n",
    "    plt.title('Explained Variance Per Principal Component')"
   ]
  },
  {
   "cell_type": "code",
   "execution_count": 133,
   "metadata": {},
   "outputs": [
    {
     "data": {
      "image/png": "[encoded data removed]",
      "text/plain": [
       "<matplotlib.figure.Figure at 0x7f152fa9d978>"
      ]
     },
     "metadata": {
      "needs_background": "light"
     },
     "output_type": "display_data"
    }
   ],
   "source": [
    "# Scree plot for full set of principal components\n",
    "scree_plot(pca, num_components='all')"
   ]
  },
  {
   "cell_type": "code",
   "execution_count": 136,
   "metadata": {},
   "outputs": [
    {
     "data": {
      "image/png": "[encoded data removed]",
      "text/plain": [
       "<matplotlib.figure.Figure at 0x7f152fdb1160>"
      ]
     },
     "metadata": {
      "needs_background": "light"
     },
     "output_type": "display_data"
    }
   ],
   "source": [
    "# Scree plot for the first 40 principal components\n",
    "scree_plot(pca, num_components=40)"
   ]
  },
  {
   "cell_type": "code",
   "execution_count": 78,
   "metadata": {},
   "outputs": [],
   "source": [
    "# Re-apply PCA to the data while selecting for number of components to retain."
   ]
  },
  {
   "cell_type": "code",
   "execution_count": 137,
   "metadata": {},
   "outputs": [
    {
     "name": "stdout",
     "output_type": "stream",
     "text": [
      "Shape of azdias_pca_40: 771,701 x 40\n"
     ]
    }
   ],
   "source": [
    "## Fit and transform using pca\n",
    "pca_40 = PCA(n_components=40)\n",
    "pca_40 = pca_40.fit(azdias_scaled)\n",
    "azdias_pca_40 = pca_40.transform(azdias_scaled)\n",
    "print('Shape of azdias_pca_40: {:,} x {}'.format(\n",
    "        azdias_pca_40.shape[0], azdias_pca_40.shape[1]))"
   ]
  },
  {
   "cell_type": "markdown",
   "metadata": {},
   "source": [
    "### Discussion 2.2: Perform Dimensionality Reduction\n",
    "\n",
    "I use and modify the code provided in the `helper_functions.py` file to create the scree plot above. The left axis corresponds to the bars for ratio of variance explained by component; the right axis corresponds to the cumulative variance (red line). \n",
    "\n",
    "The plot shows that the \"elbow\" of the variance-explained curve is not clearly identified; in other words, the marginal variance-explained declines gradually, with no significant inflection point that would provide one clear choice for number of PCA components (if one were using the marginal variance-explained criterion).\n",
    "\n",
    "I'm following my project reviewer's recommendation by choosing 40 components, which retains more than 90% of the variance; as seen in the scree plot."
   ]
  },
  {
   "cell_type": "markdown",
   "metadata": {},
   "source": [
    "### Step 2.3: Interpret Principal Components\n",
    "\n",
    "Now that we have our transformed principal components, it's a nice idea to check out the weight of each variable on the first few components to see if they can be interpreted in some fashion.\n",
    "\n",
    "As a reminder, each principal component is a unit vector that points in the direction of highest variance (after accounting for the variance captured by earlier principal components). The further a weight is from zero, the more the principal component is in the direction of the corresponding feature. If two features have large weights of the same sign (both positive or both negative), then increases in one tend expect to be associated with increases in the other. To contrast, features with different signs can be expected to show a negative correlation: increases in one variable should result in a decrease in the other.\n",
    "\n",
    "- To investigate the features, you should map each weight to their corresponding feature name, then sort the features according to weight. The most interesting features for each principal component, then, will be those at the beginning and end of the sorted list. Use the data dictionary document to help you understand these most prominent features, their relationships, and what a positive or negative value on the principal component might indicate.\n",
    "- You should investigate and interpret feature associations from the first three principal components in this substep. To help facilitate this, you should write a function that you can call at any time to print the sorted list of feature weights, for the *i*-th principal component. This might come in handy in the next step of the project, when you interpret the tendencies of the discovered clusters."
   ]
  },
  {
   "cell_type": "code",
   "execution_count": 138,
   "metadata": {},
   "outputs": [],
   "source": [
    "# HINT: Try defining a function here or in a new cell that you can reuse in the\n",
    "# other cells."
   ]
  },
  {
   "cell_type": "code",
   "execution_count": 140,
   "metadata": {},
   "outputs": [],
   "source": [
    "def pca_results(full_dataset, pca, nth_component=1):\n",
    "    \"\"\"\n",
    "    Map weights for the principal component to corresponding feature names\n",
    "    and then print the linked values, sorted by weight.\n",
    "    \n",
    "    INPUT:  full_dataset - azdias dataset\n",
    "            pca - the result PCA fit in scikit learn\n",
    "            nth_component - principal component to investigate\n",
    "    OUTPUT: Trimmed and cleaned demographics DataFrame\n",
    "    \"\"\"\n",
    "    \n",
    "    # nth_component indexing\n",
    "    suffix = {1:'st', 2:'nd', 3:'rd'}\n",
    "    component_index = ['{}{}'.format(i, suffix.get(i, 'th'))\n",
    "                       for i in range(1,len(pca.components_)+1)]\n",
    "\n",
    "    # PCA components\n",
    "    components = pd.DataFrame(np.round(pca.components_, 4), \n",
    "                              columns = full_dataset.keys())\n",
    "    components.index = component_index\n",
    "    \n",
    "    # PCA explained variance\n",
    "    ratios = pca.explained_variance_ratio_.reshape(\n",
    "                                            len(pca.components_), 1)\n",
    "    variance_ratios = pd.DataFrame(np.round(ratios, 4), \n",
    "                                   columns = ['Explained Variance'])  \n",
    "    variance_ratios.index = component_index\n",
    "    \n",
    "    label = '{}{}'.format(nth_component, suffix.get(nth_component, 'th'))\n",
    "    weights = components.loc[label,]\n",
    "    sorted_weights = weights.loc[\n",
    "        weights.abs().sort_values(ascending=False).index]\n",
    "    \n",
    "    first_n_feat = 30\n",
    "    \n",
    "    print('— {} PRINCIPAL COMPONENT —'.format(label))\n",
    "    print('\\nExplained variance: {}'.format(variance_ratios.loc[label][0]))\n",
    "    print('\\n{} most prominent features by weight:'.format(first_n_feat))\n",
    "    print(sorted_weights.iloc[0:first_n_feat])\n",
    "                  \n",
    "    return None"
   ]
  },
  {
   "cell_type": "code",
   "execution_count": 141,
   "metadata": {
    "scrolled": true
   },
   "outputs": [
    {
     "name": "stdout",
     "output_type": "stream",
     "text": [
      "— 1st PRINCIPAL COMPONENT —\n",
      "\n",
      "Explained variance: 0.1707\n",
      "\n",
      "30 most prominent features by weight:\n",
      "MOBI_REGIO                       -0.2352\n",
      "PLZ8_ANTG3                        0.2275\n",
      "PLZ8_ANTG1                       -0.2215\n",
      "PLZ8_ANTG4                        0.2175\n",
      "KBA05_GBZ                        -0.2116\n",
      "KBA05_ANTG1                      -0.2115\n",
      "ORTSGR_KLS9                       0.2105\n",
      "EWDICHTE                          0.2087\n",
      "CAMEO_INTL_2015_wealth            0.2042\n",
      "FINANZ_MINIMALIST                -0.2028\n",
      "HH_EINKOMMEN_SCORE                0.2017\n",
      "WOHNLAGE_neighborhood             0.1810\n",
      "WOHNLAGE_rural                   -0.1731\n",
      "KONSUMNAEHE                      -0.1730\n",
      "INNENSTADT                       -0.1698\n",
      "FINANZ_HAUSBAUER                  0.1692\n",
      "PLZ8_GBZ                         -0.1644\n",
      "PLZ8_ANTG2                        0.1567\n",
      "KBA05_ANTG4                       0.1523\n",
      "ARBEIT                            0.1499\n",
      "RELAT_AB                          0.1421\n",
      "ANZ_HAUSHALTE_AKTIV               0.1377\n",
      "KBA05_ANTG3                       0.1321\n",
      "BALLRAUM                         -0.1317\n",
      "MIN_GEBAEUDEJAHR                 -0.1192\n",
      "GEBAEUDETYP_RASTER               -0.1175\n",
      "FINANZ_SPARER                     0.1170\n",
      "CAMEO_INTL_2015_stage            -0.1169\n",
      "PRAEGENDE_JUGENDJAHRE_movement   -0.0938\n",
      "GREEN_AVANTGARDE                 -0.0938\n",
      "Name: 1st, dtype: float64\n"
     ]
    }
   ],
   "source": [
    "# Map weights for the first principal component to corresponding feature names\n",
    "# and then print the linked values, sorted by weight.\n",
    "pca_results(azdias_eng, pca_40, nth_component=1)"
   ]
  },
  {
   "cell_type": "code",
   "execution_count": 142,
   "metadata": {},
   "outputs": [
    {
     "name": "stdout",
     "output_type": "stream",
     "text": [
      "— 2nd PRINCIPAL COMPONENT —\n",
      "\n",
      "Explained variance: 0.1285\n",
      "\n",
      "30 most prominent features by weight:\n",
      "ALTERSKATEGORIE_GROB            0.2705\n",
      "SEMIO_REL                      -0.2697\n",
      "PRAEGENDE_JUGENDJAHRE_decade   -0.2610\n",
      "FINANZ_SPARER                  -0.2568\n",
      "FINANZ_VORSORGER                0.2450\n",
      "FINANZ_UNAUFFAELLIGER          -0.2391\n",
      "SEMIO_TRADV                    -0.2351\n",
      "SEMIO_ERL                       0.2348\n",
      "SEMIO_PFLICHT                  -0.2345\n",
      "FINANZ_ANLEGER                 -0.2204\n",
      "SEMIO_KULT                     -0.2196\n",
      "SEMIO_LUST                      0.1892\n",
      "SEMIO_FAM                      -0.1861\n",
      "SEMIO_RAT                      -0.1792\n",
      "RETOURTYP_BK_S                  0.1674\n",
      "SEMIO_MAT                      -0.1655\n",
      "ONLINE_AFFINITAET              -0.1578\n",
      "W_KEIT_KIND_HH                  0.1117\n",
      "SEMIO_KRIT                      0.1094\n",
      "SEMIO_SOZ                      -0.1024\n",
      "FINANZ_MINIMALIST               0.0996\n",
      "SEMIO_KAEM                      0.0988\n",
      "FINANZ_HAUSBAUER                0.0948\n",
      "MIN_GEBAEUDEJAHR               -0.0839\n",
      "ANREDE_KZ                       0.0826\n",
      "EWDICHTE                        0.0707\n",
      "ORTSGR_KLS9                     0.0692\n",
      "WOHNDAUER_2008                  0.0685\n",
      "WOHNLAGE_rural                 -0.0651\n",
      "PLZ8_ANTG3                      0.0629\n",
      "Name: 2nd, dtype: float64\n"
     ]
    }
   ],
   "source": [
    "# Map weights for the second principal component to corresponding feature names\n",
    "# and then print the linked values, sorted by weight.\n",
    "\n",
    "pca_results(azdias_eng, pca_40, nth_component=2)"
   ]
  },
  {
   "cell_type": "code",
   "execution_count": 144,
   "metadata": {},
   "outputs": [
    {
     "name": "stdout",
     "output_type": "stream",
     "text": [
      "— 3rd PRINCIPAL COMPONENT —\n",
      "\n",
      "Explained variance: 0.0888\n",
      "\n",
      "30 most prominent features by weight:\n",
      "ANREDE_KZ                        -0.3723\n",
      "SEMIO_VERT                        0.3533\n",
      "SEMIO_KAEM                       -0.3317\n",
      "SEMIO_DOM                        -0.3060\n",
      "SEMIO_KRIT                       -0.2762\n",
      "SEMIO_SOZ                         0.2654\n",
      "SEMIO_FAM                         0.2520\n",
      "SEMIO_KULT                        0.2371\n",
      "SEMIO_RAT                        -0.2089\n",
      "FINANZ_ANLEGER                   -0.1929\n",
      "SEMIO_ERL                        -0.1806\n",
      "FINANZ_MINIMALIST                 0.1661\n",
      "RETOURTYP_BK_S                    0.1066\n",
      "FINANZ_SPARER                    -0.1056\n",
      "PRAEGENDE_JUGENDJAHRE_decade     -0.1013\n",
      "FINANZ_VORSORGER                  0.0974\n",
      "FINANZ_UNAUFFAELLIGER            -0.0954\n",
      "W_KEIT_KIND_HH                    0.0836\n",
      "SEMIO_REL                         0.0773\n",
      "ALTERSKATEGORIE_GROB              0.0733\n",
      "SEMIO_PFLICHT                    -0.0723\n",
      "SEMIO_TRADV                      -0.0721\n",
      "SEMIO_LUST                        0.0607\n",
      "GREEN_AVANTGARDE                  0.0597\n",
      "PRAEGENDE_JUGENDJAHRE_movement    0.0597\n",
      "FINANZ_HAUSBAUER                 -0.0565\n",
      "SEMIO_MAT                         0.0561\n",
      "ORTSGR_KLS9                       0.0469\n",
      "ONLINE_AFFINITAET                -0.0468\n",
      "EWDICHTE                          0.0463\n",
      "Name: 3rd, dtype: float64\n"
     ]
    }
   ],
   "source": [
    "# Map weights for the third principal component to corresponding feature names\n",
    "# and then print the linked values, sorted by weight.\n",
    "\n",
    "pca_results(azdias_eng, pca_40, nth_component=3)"
   ]
  },
  {
   "cell_type": "markdown",
   "metadata": {},
   "source": [
    "### Discussion 2.3: Interpret Principal Components\n",
    "\n",
    "— 1st PRINCIPAL COMPONENT —\n",
    "\n",
    "The first principal component includes large weights for correlated regional features that are associated with type of dwelling and density of population. For instance, `PLZ8_ANTG1` (number of 1-2 family houses in the PLZ8 region) and `PLZ8_ANTG3` (number of 6-10 family houses in the PLZ8 region) have similar weights with opposing directions, which indicate that whether an individual lives in a region with mostly single-/dual-family housing versus multi-family housing captures a large portion of the variance in our data. Other features like `KBA05_GBZ` (number of buildings in the microcell) and `EWDICHTE` (density of households) are similarly important regional features in the first principal component. \n",
    "\n",
    "But the first principal component also involves contributions from features at the person and household levels, which are directly associated with financial status; `FINANZ_MINIMALIST` (low financial interest) and `FINANZ_HAUSBAUER` (home ownership) have similar weights in opposing directions. `HH_EINKOMMEN_SCORE` (estimated household income) and `CAMEO_INTL_2015_wealth` (average household wealth) have similar weights in the same direction. \n",
    "\n",
    "I'd conclude that the first principal component is dominated by regional features that vary significantly between urban and suburban areas — as well as person- and household-level financial measurements that vary significantly within the range of income levels.  \n",
    "\n",
    "— 2nd PRINCIPAL COMPONENT —\n",
    "\n",
    "The second principal component shows large weights for many of the features that measure the given personality typology; for instance, all of the following have similar weights in the same direction: `SEMIO_REL` (religious), `SEMIO_PFLICHT` (dutiful), `SEMIO_TRADV` (traditional-minded), `SEMIO_FAM` (family-minded), and others.\n",
    "\n",
    "This component also shows large weights for the person-level financial typology (`FINANZ_`) and for the features asscoiated with estimated age: `ALTERSKATEGORIE_GROB` and `PRAEGENDE_JUGENDJAHRE_decade`.\n",
    "\n",
    "This leads me to infer that after accounting for the variance in regional features, explained by the first principal component, the second principal component is mostly capturing demographic and financial variance at the person and household levels.\n",
    "\n",
    "— 3rd PRINCIPAL COMPONENT —\n",
    "\n",
    "The third principal component's largest weight is for the gender feature, `ANREDE_KZ`. It also shows large weights for other features involved in the given personality typology; for instance, `SEMIO_VERT` (dreamful), `SEMIO_KAEM` (combative attitude), and `SEMIO_DOM` (dominant-minded).\n",
    "\n",
    "I conclude that after accounting for the variance in regional features (explained by the first principal component) and the variance in person-level demographic and financial features (explained by the second principal component) the third principal component is dominated by features at the person level which vary more uniformly in the population."
   ]
  },
  {
   "cell_type": "markdown",
   "metadata": {},
   "source": [
    "## Step 3: Clustering\n",
    "\n",
    "### Step 3.1: Apply Clustering to General Population\n",
    "\n",
    "You've assessed and cleaned the demographics data, then scaled and transformed them. Now, it's time to see how the data clusters in the principal components space. In this substep, you will apply k-means clustering to the dataset and use the average within-cluster distances from each point to their assigned cluster's centroid to decide on a number of clusters to keep.\n",
    "\n",
    "- Use sklearn's [KMeans](http://scikit-learn.org/stable/modules/generated/sklearn.cluster.KMeans.html#sklearn.cluster.KMeans) class to perform k-means clustering on the PCA-transformed data.\n",
    "- Then, compute the average difference from each point to its assigned cluster's center. **Hint**: The KMeans object's `.score()` method might be useful here, but note that in sklearn, scores tend to be defined so that larger is better. Try applying it to a small, toy dataset, or use an internet search to help your understanding.\n",
    "- Perform the above two steps for a number of different cluster counts. You can then see how the average distance decreases with an increasing number of clusters. However, each additional cluster provides a smaller net benefit. Use this fact to select a final number of clusters in which to group the data. **Warning**: because of the large size of the dataset, it can take a long time for the algorithm to resolve. The more clusters to fit, the longer the algorithm will take. You should test for cluster counts through at least 10 clusters to get the full picture, but you shouldn't need to test for a number of clusters above about 30.\n",
    "- Once you've selected a final number of clusters to use, re-fit a KMeans instance to perform the clustering operation. Make sure that you also obtain the cluster assignments for the general demographics data, since you'll be using them in the final Step 3.3."
   ]
  },
  {
   "cell_type": "code",
   "execution_count": 145,
   "metadata": {},
   "outputs": [],
   "source": [
    "# Helper function\n",
    "def clusters_distances(dataset_pca, max_clusters):\n",
    "    \"\"\"\n",
    "    Map weights for the principal component to corresponding feature names\n",
    "    and then print the linked values, sorted by weight.\n",
    "    \n",
    "    INPUT:  dataset_pca - the result of PCA transform in sklearn\n",
    "            max_clusters - max number of clusters to investigate \n",
    "    OUTPUT: clusters - list of count of clusters\n",
    "            distances - list of average distances corresponding to cluster count\n",
    "    \"\"\"\n",
    "    \n",
    "    # Over a number of different cluster counts...\n",
    "\n",
    "    clusters = list(range(1,max_clusters + 1))\n",
    "    distances = list()\n",
    "\n",
    "    for n_clusters in clusters:\n",
    "\n",
    "        # run k-means clustering on the data and...\n",
    "\n",
    "        ## instantiate model\n",
    "        model = KMeans(n_clusters)\n",
    "        ## fit the model to PCA-fitted data\n",
    "        model = model.fit(X=dataset_pca)\n",
    "\n",
    "        # compute the average within-cluster distances.\n",
    "\n",
    "        ## get attribute 'inertia'\n",
    "        ## sum of sqrd distances of samples to their closest cluster center\n",
    "        inertia = model.inertia_\n",
    "        ## get average distance\n",
    "        ave_distance = np.sqrt(inertia / dataset_pca.shape[0])\n",
    "        distances.append(ave_distance)\n",
    "    return clusters, distances"
   ]
  },
  {
   "cell_type": "code",
   "execution_count": 146,
   "metadata": {},
   "outputs": [],
   "source": [
    "# Helper function\n",
    "def scree_kmeans(clusters, distances):\n",
    "    \"\"\"\n",
    "    Scree plot \n",
    "    \n",
    "    INPUT: \n",
    "        clusters - list of count of clusters\n",
    "        distances - list of average distances corresponding to cluster count\n",
    "    OUTPUT: \n",
    "        None - plots scree plot\n",
    "    \"\"\"\n",
    "    # Build list of labels to equal subset of 'distance' values\n",
    "    distances_dict = {c: distances[c - 1] for c in clusters \n",
    "                      if (c <= 9 or c % 3 == 0)}\n",
    "    labels = [distances_dict.get(c, '') for c in clusters]\n",
    "    labels = [lab if isinstance(lab, str) else str(lab)[0:4] for lab in labels ]\n",
    "\n",
    "    plt.plot(clusters, distances,'ro--' )\n",
    "    plt.xticks(clusters)\n",
    "    plt.yticks(distances, labels, fontsize=8)\n",
    "    plt.xlabel('K: cluster count')\n",
    "    plt.ylabel('Average within-cluster distance')\n",
    "    plt.title('Average distance vs. cluster count')\n",
    "    plt.grid(which='major', axis='y', linestyle='--')\n",
    "    \n",
    "    plt.show()\n",
    "    return None"
   ]
  },
  {
   "cell_type": "code",
   "execution_count": 147,
   "metadata": {},
   "outputs": [],
   "source": [
    "# Investigate the change in within-cluster distance across number of clusters.\n",
    "# HINT: Use matplotlib's plot function to visualize this relationship."
   ]
  },
  {
   "cell_type": "code",
   "execution_count": null,
   "metadata": {},
   "outputs": [],
   "source": [
    "# Warning: Executing the function \"clusters_distances\" takes a very long time\n",
    "\n",
    "#clusters, distances = clusters_distances(dataset_pca=azdias_pca_40, max_clusters=15)"
   ]
  },
  {
   "cell_type": "code",
   "execution_count": 152,
   "metadata": {},
   "outputs": [
    {
     "data": {
      "image/png": "[encoded data removed]",
      "text/plain": [
       "<matplotlib.figure.Figure at 0x7f152f4ed710>"
      ]
     },
     "metadata": {
      "needs_background": "light"
     },
     "output_type": "display_data"
    }
   ],
   "source": [
    "# Show scree plot \n",
    "scree_kmeans(clusters, distances)"
   ]
  },
  {
   "cell_type": "code",
   "execution_count": 217,
   "metadata": {},
   "outputs": [],
   "source": [
    "# Re-fit the k-means model with the selected number of clusters and obtain\n",
    "# cluster predictions for the general population demographics data."
   ]
  },
  {
   "cell_type": "code",
   "execution_count": 153,
   "metadata": {},
   "outputs": [],
   "source": [
    "# Instantiate model with the selected number of clusters\n",
    "kmeans_13 = KMeans(n_clusters=13)\n",
    "# Fit the model to PCA-fitted data\n",
    "kmeans_13 = kmeans_13.fit(X=azdias_pca_40)\n",
    "\n",
    "# Predict labels on the same general population data\n",
    "labels = kmeans_13.predict(X=azdias_pca_40)"
   ]
  },
  {
   "cell_type": "markdown",
   "metadata": {},
   "source": [
    "### Discussion 3.1: Apply Clustering to General Population\n",
    "\n",
    "Based on the plot shown above, I decided to segment the population into 9 clusters. I intended to apply the \"elbow\" strategy to find the optimal number of cluster but these particular principal-components data does not show a clear inflection point at which adding new clusters no longer creates a substantial decrease in the average distance. \n",
    "\n",
    "The curve does show a clear downward trajectory of the marginal improvement in average distance, which becomes stable in the range of 8 to 11 clusters."
   ]
  },
  {
   "cell_type": "markdown",
   "metadata": {},
   "source": [
    "### Step 3.2: Apply All Steps to the Customer Data\n",
    "\n",
    "Now that you have clusters and cluster centers for the general population, it's time to see how the customer data maps on to those clusters. Take care to not confuse this for re-fitting all of the models to the customer data. Instead, you're going to use the fits from the general population to clean, transform, and cluster the customer data. In the last step of the project, you will interpret how the general population fits apply to the customer data.\n",
    "\n",
    "- Don't forget when loading in the customers data, that it is semicolon (`;`) delimited.\n",
    "- Apply the same feature wrangling, selection, and engineering steps to the customer demographics using the `clean_data()` function you created earlier. (You can assume that the customer demographics data has similar meaning behind missing data patterns as the general demographics data.)\n",
    "- Use the sklearn objects from the general demographics data, and apply their transformations to the customers data. That is, you should not be using a `.fit()` or `.fit_transform()` method to re-fit the old objects, nor should you be creating new sklearn objects! Carry the data through the feature scaling, PCA, and clustering steps, obtaining cluster assignments for all of the data in the customer demographics data."
   ]
  },
  {
   "cell_type": "code",
   "execution_count": 8,
   "metadata": {},
   "outputs": [],
   "source": [
    "# Load in the customer demographics data.\n",
    "filepath = 'Udacity_CUSTOMERS_Subset.csv'\n",
    "customers = pd.read_csv(filepath, sep=';', quotechar='\"')"
   ]
  },
  {
   "cell_type": "code",
   "execution_count": 9,
   "metadata": {},
   "outputs": [
    {
     "name": "stdout",
     "output_type": "stream",
     "text": [
      "Shape of Udacity_CUSTOMERS_Subset.csv: 191,652 x 85 \n",
      "\n",
      "First few rows of Udacity_CUSTOMERS_Subset.csv:\n"
     ]
    },
    {
     "data": {
      "text/html": [
       "<div>\n",
       "<style>\n",
       "    .dataframe thead tr:only-child th {\n",
       "        text-align: right;\n",
       "    }\n",
       "\n",
       "    .dataframe thead th {\n",
       "        text-align: left;\n",
       "    }\n",
       "\n",
       "    .dataframe tbody tr th {\n",
       "        vertical-align: top;\n",
       "    }\n",
       "</style>\n",
       "<table border=\"1\" class=\"dataframe\">\n",
       "  <thead>\n",
       "    <tr style=\"text-align: right;\">\n",
       "      <th></th>\n",
       "      <th>AGER_TYP</th>\n",
       "      <th>ALTERSKATEGORIE_GROB</th>\n",
       "      <th>ANREDE_KZ</th>\n",
       "      <th>CJT_GESAMTTYP</th>\n",
       "      <th>FINANZ_MINIMALIST</th>\n",
       "      <th>FINANZ_SPARER</th>\n",
       "      <th>FINANZ_VORSORGER</th>\n",
       "      <th>FINANZ_ANLEGER</th>\n",
       "      <th>FINANZ_UNAUFFAELLIGER</th>\n",
       "      <th>FINANZ_HAUSBAUER</th>\n",
       "      <th>...</th>\n",
       "      <th>PLZ8_ANTG1</th>\n",
       "      <th>PLZ8_ANTG2</th>\n",
       "      <th>PLZ8_ANTG3</th>\n",
       "      <th>PLZ8_ANTG4</th>\n",
       "      <th>PLZ8_BAUMAX</th>\n",
       "      <th>PLZ8_HHZ</th>\n",
       "      <th>PLZ8_GBZ</th>\n",
       "      <th>ARBEIT</th>\n",
       "      <th>ORTSGR_KLS9</th>\n",
       "      <th>RELAT_AB</th>\n",
       "    </tr>\n",
       "  </thead>\n",
       "  <tbody>\n",
       "    <tr>\n",
       "      <th>0</th>\n",
       "      <td>2</td>\n",
       "      <td>4</td>\n",
       "      <td>1</td>\n",
       "      <td>5.0</td>\n",
       "      <td>5</td>\n",
       "      <td>1</td>\n",
       "      <td>5</td>\n",
       "      <td>1</td>\n",
       "      <td>2</td>\n",
       "      <td>2</td>\n",
       "      <td>...</td>\n",
       "      <td>3.0</td>\n",
       "      <td>3.0</td>\n",
       "      <td>1.0</td>\n",
       "      <td>0.0</td>\n",
       "      <td>1.0</td>\n",
       "      <td>5.0</td>\n",
       "      <td>5.0</td>\n",
       "      <td>1.0</td>\n",
       "      <td>2.0</td>\n",
       "      <td>1.0</td>\n",
       "    </tr>\n",
       "    <tr>\n",
       "      <th>1</th>\n",
       "      <td>-1</td>\n",
       "      <td>4</td>\n",
       "      <td>1</td>\n",
       "      <td>NaN</td>\n",
       "      <td>5</td>\n",
       "      <td>1</td>\n",
       "      <td>5</td>\n",
       "      <td>1</td>\n",
       "      <td>3</td>\n",
       "      <td>2</td>\n",
       "      <td>...</td>\n",
       "      <td>NaN</td>\n",
       "      <td>NaN</td>\n",
       "      <td>NaN</td>\n",
       "      <td>NaN</td>\n",
       "      <td>NaN</td>\n",
       "      <td>NaN</td>\n",
       "      <td>NaN</td>\n",
       "      <td>NaN</td>\n",
       "      <td>NaN</td>\n",
       "      <td>NaN</td>\n",
       "    </tr>\n",
       "    <tr>\n",
       "      <th>2</th>\n",
       "      <td>-1</td>\n",
       "      <td>4</td>\n",
       "      <td>2</td>\n",
       "      <td>2.0</td>\n",
       "      <td>5</td>\n",
       "      <td>1</td>\n",
       "      <td>5</td>\n",
       "      <td>1</td>\n",
       "      <td>4</td>\n",
       "      <td>4</td>\n",
       "      <td>...</td>\n",
       "      <td>2.0</td>\n",
       "      <td>3.0</td>\n",
       "      <td>3.0</td>\n",
       "      <td>1.0</td>\n",
       "      <td>3.0</td>\n",
       "      <td>3.0</td>\n",
       "      <td>2.0</td>\n",
       "      <td>3.0</td>\n",
       "      <td>5.0</td>\n",
       "      <td>3.0</td>\n",
       "    </tr>\n",
       "    <tr>\n",
       "      <th>3</th>\n",
       "      <td>1</td>\n",
       "      <td>4</td>\n",
       "      <td>1</td>\n",
       "      <td>2.0</td>\n",
       "      <td>5</td>\n",
       "      <td>1</td>\n",
       "      <td>5</td>\n",
       "      <td>2</td>\n",
       "      <td>1</td>\n",
       "      <td>2</td>\n",
       "      <td>...</td>\n",
       "      <td>3.0</td>\n",
       "      <td>2.0</td>\n",
       "      <td>1.0</td>\n",
       "      <td>0.0</td>\n",
       "      <td>1.0</td>\n",
       "      <td>3.0</td>\n",
       "      <td>4.0</td>\n",
       "      <td>1.0</td>\n",
       "      <td>3.0</td>\n",
       "      <td>1.0</td>\n",
       "    </tr>\n",
       "    <tr>\n",
       "      <th>4</th>\n",
       "      <td>-1</td>\n",
       "      <td>3</td>\n",
       "      <td>1</td>\n",
       "      <td>6.0</td>\n",
       "      <td>3</td>\n",
       "      <td>1</td>\n",
       "      <td>4</td>\n",
       "      <td>4</td>\n",
       "      <td>5</td>\n",
       "      <td>2</td>\n",
       "      <td>...</td>\n",
       "      <td>2.0</td>\n",
       "      <td>4.0</td>\n",
       "      <td>2.0</td>\n",
       "      <td>1.0</td>\n",
       "      <td>2.0</td>\n",
       "      <td>3.0</td>\n",
       "      <td>3.0</td>\n",
       "      <td>3.0</td>\n",
       "      <td>5.0</td>\n",
       "      <td>1.0</td>\n",
       "    </tr>\n",
       "  </tbody>\n",
       "</table>\n",
       "<p>5 rows × 85 columns</p>\n",
       "</div>"
      ],
      "text/plain": [
       "   AGER_TYP  ALTERSKATEGORIE_GROB  ANREDE_KZ  CJT_GESAMTTYP  \\\n",
       "0         2                     4          1            5.0   \n",
       "1        -1                     4          1            NaN   \n",
       "2        -1                     4          2            2.0   \n",
       "3         1                     4          1            2.0   \n",
       "4        -1                     3          1            6.0   \n",
       "\n",
       "   FINANZ_MINIMALIST  FINANZ_SPARER  FINANZ_VORSORGER  FINANZ_ANLEGER  \\\n",
       "0                  5              1                 5               1   \n",
       "1                  5              1                 5               1   \n",
       "2                  5              1                 5               1   \n",
       "3                  5              1                 5               2   \n",
       "4                  3              1                 4               4   \n",
       "\n",
       "   FINANZ_UNAUFFAELLIGER  FINANZ_HAUSBAUER    ...     PLZ8_ANTG1  PLZ8_ANTG2  \\\n",
       "0                      2                 2    ...            3.0         3.0   \n",
       "1                      3                 2    ...            NaN         NaN   \n",
       "2                      4                 4    ...            2.0         3.0   \n",
       "3                      1                 2    ...            3.0         2.0   \n",
       "4                      5                 2    ...            2.0         4.0   \n",
       "\n",
       "   PLZ8_ANTG3  PLZ8_ANTG4  PLZ8_BAUMAX  PLZ8_HHZ  PLZ8_GBZ  ARBEIT  \\\n",
       "0         1.0         0.0          1.0       5.0       5.0     1.0   \n",
       "1         NaN         NaN          NaN       NaN       NaN     NaN   \n",
       "2         3.0         1.0          3.0       3.0       2.0     3.0   \n",
       "3         1.0         0.0          1.0       3.0       4.0     1.0   \n",
       "4         2.0         1.0          2.0       3.0       3.0     3.0   \n",
       "\n",
       "   ORTSGR_KLS9  RELAT_AB  \n",
       "0          2.0       1.0  \n",
       "1          NaN       NaN  \n",
       "2          5.0       3.0  \n",
       "3          3.0       1.0  \n",
       "4          5.0       1.0  \n",
       "\n",
       "[5 rows x 85 columns]"
      ]
     },
     "execution_count": 9,
     "metadata": {},
     "output_type": "execute_result"
    }
   ],
   "source": [
    "# Print shape of customers \n",
    "print('Shape of {}: {:,} x {} \\n'.format(\n",
    "    filepath, customers.shape[0], customers.shape[1]))\n",
    "# Print first rows\n",
    "print('First few rows of {}:'.format(filepath))\n",
    "customers.head()"
   ]
  },
  {
   "cell_type": "code",
   "execution_count": 156,
   "metadata": {},
   "outputs": [],
   "source": [
    "# Apply preprocessing, feature transformation, and clustering from the general\n",
    "# demographics onto the customer data, obtaining cluster predictions for the\n",
    "# customer demographics data."
   ]
  },
  {
   "cell_type": "code",
   "execution_count": 157,
   "metadata": {},
   "outputs": [
    {
     "name": "stderr",
     "output_type": "stream",
     "text": [
      "/opt/conda/lib/python3.6/site-packages/ipykernel_launcher.py:43: SettingWithCopyWarning: \n",
      "A value is trying to be set on a copy of a slice from a DataFrame.\n",
      "Try using .loc[row_indexer,col_indexer] = value instead\n",
      "\n",
      "See the caveats in the documentation: http://pandas.pydata.org/pandas-docs/stable/indexing.html#indexing-view-versus-copy\n",
      "/opt/conda/lib/python3.6/site-packages/ipykernel_launcher.py:47: SettingWithCopyWarning: \n",
      "A value is trying to be set on a copy of a slice from a DataFrame.\n",
      "Try using .loc[row_indexer,col_indexer] = value instead\n",
      "\n",
      "See the caveats in the documentation: http://pandas.pydata.org/pandas-docs/stable/indexing.html#indexing-view-versus-copy\n",
      "/opt/conda/lib/python3.6/site-packages/ipykernel_launcher.py:50: SettingWithCopyWarning: \n",
      "A value is trying to be set on a copy of a slice from a DataFrame.\n",
      "Try using .loc[row_indexer,col_indexer] = value instead\n",
      "\n",
      "See the caveats in the documentation: http://pandas.pydata.org/pandas-docs/stable/indexing.html#indexing-view-versus-copy\n",
      "/opt/conda/lib/python3.6/site-packages/ipykernel_launcher.py:55: SettingWithCopyWarning: \n",
      "A value is trying to be set on a copy of a slice from a DataFrame.\n",
      "Try using .loc[row_indexer,col_indexer] = value instead\n",
      "\n",
      "See the caveats in the documentation: http://pandas.pydata.org/pandas-docs/stable/indexing.html#indexing-view-versus-copy\n",
      "/opt/conda/lib/python3.6/site-packages/ipykernel_launcher.py:58: SettingWithCopyWarning: \n",
      "A value is trying to be set on a copy of a slice from a DataFrame.\n",
      "Try using .loc[row_indexer,col_indexer] = value instead\n",
      "\n",
      "See the caveats in the documentation: http://pandas.pydata.org/pandas-docs/stable/indexing.html#indexing-view-versus-copy\n",
      "/opt/conda/lib/python3.6/site-packages/ipykernel_launcher.py:62: SettingWithCopyWarning: \n",
      "A value is trying to be set on a copy of a slice from a DataFrame.\n",
      "Try using .loc[row_indexer,col_indexer] = value instead\n",
      "\n",
      "See the caveats in the documentation: http://pandas.pydata.org/pandas-docs/stable/indexing.html#indexing-view-versus-copy\n",
      "/opt/conda/lib/python3.6/site-packages/ipykernel_launcher.py:64: SettingWithCopyWarning: \n",
      "A value is trying to be set on a copy of a slice from a DataFrame.\n",
      "Try using .loc[row_indexer,col_indexer] = value instead\n",
      "\n",
      "See the caveats in the documentation: http://pandas.pydata.org/pandas-docs/stable/indexing.html#indexing-view-versus-copy\n",
      "/opt/conda/lib/python3.6/site-packages/ipykernel_launcher.py:72: SettingWithCopyWarning: \n",
      "A value is trying to be set on a copy of a slice from a DataFrame\n",
      "\n",
      "See the caveats in the documentation: http://pandas.pydata.org/pandas-docs/stable/indexing.html#indexing-view-versus-copy\n"
     ]
    }
   ],
   "source": [
    "# Apply preprocessing with cleaning function\n",
    "customers = clean_data(customers)"
   ]
  },
  {
   "cell_type": "code",
   "execution_count": 159,
   "metadata": {},
   "outputs": [
    {
     "name": "stdout",
     "output_type": "stream",
     "text": [
      "Shape of clean customers dataset: 135,495 x 66\n"
     ]
    }
   ],
   "source": [
    "# Print shape of clean customers dataset \n",
    "print('Shape of clean customers dataset: {:,} x {}'.format(\n",
    "     customers.shape[0], customers.shape[1]))"
   ]
  },
  {
   "cell_type": "code",
   "execution_count": 161,
   "metadata": {},
   "outputs": [],
   "source": [
    "# Feature scaling and PCA transformation\n",
    "## Apply feature scaling to the customers data\n",
    "customers_imp = imputer.transform(customers)\n",
    "customers_scaled = scaler.transform(customers_imp)"
   ]
  },
  {
   "cell_type": "code",
   "execution_count": 162,
   "metadata": {},
   "outputs": [],
   "source": [
    "## Transform \"customers_scaled\" using fitted PCA\n",
    "customers_pca_40 = pca_40.transform(customers_scaled)"
   ]
  },
  {
   "cell_type": "code",
   "execution_count": 164,
   "metadata": {},
   "outputs": [],
   "source": [
    "## Predict k-means labels on the customer data\n",
    "labels_customers = kmeans_13.predict(customers_pca_40)"
   ]
  },
  {
   "cell_type": "markdown",
   "metadata": {},
   "source": [
    "### Step 3.3: Compare Customer Data to Demographics Data\n",
    "\n",
    "At this point, you have clustered data based on demographics of the general population of Germany, and seen how the customer data for a mail-order sales company maps onto those demographic clusters. In this final substep, you will compare the two cluster distributions to see where the strongest customer base for the company is.\n",
    "\n",
    "Consider the proportion of persons in each cluster for the general population, and the proportions for the customers. If we think the company's customer base to be universal, then the cluster assignment proportions should be fairly similar between the two. If there are only particular segments of the population that are interested in the company's products, then we should see a mismatch from one to the other. If there is a higher proportion of persons in a cluster for the customer data compared to the general population (e.g. 5% of persons are assigned to a cluster for the general population, but 15% of the customer data is closest to that cluster's centroid) then that suggests the people in that cluster to be a target audience for the company. On the other hand, the proportion of the data in a cluster being larger in the general population than the customer data (e.g. only 2% of customers closest to a population centroid that captures 6% of the data) suggests that group of persons to be outside of the target demographics.\n",
    "\n",
    "Take a look at the following points in this step:\n",
    "\n",
    "- Compute the proportion of data points in each cluster for the general population and the customer data. Visualizations will be useful here: both for the individual dataset proportions, but also to visualize the ratios in cluster representation between groups. Seaborn's [`countplot()`](https://seaborn.pydata.org/generated/seaborn.countplot.html) or [`barplot()`](https://seaborn.pydata.org/generated/seaborn.barplot.html) function could be handy.\n",
    "  - Recall the analysis you performed in step 1.1.3 of the project, where you separated out certain data points from the dataset if they had more than a specified threshold of missing values. If you found that this group was qualitatively different from the main bulk of the data, you should treat this as an additional data cluster in this analysis. Make sure that you account for the number of data points in this subset, for both the general population and customer datasets, when making your computations!\n",
    "- Which cluster or clusters are overrepresented in the customer dataset compared to the general population? Select at least one such cluster and infer what kind of people might be represented by that cluster. Use the principal component interpretations from step 2.3 or look at additional components to help you make this inference. Alternatively, you can use the `.inverse_transform()` method of the PCA and StandardScaler objects to transform centroids back to the original data space and interpret the retrieved values directly.\n",
    "- Perform a similar investigation for the underrepresented clusters. Which cluster or clusters are underrepresented in the customer dataset compared to the general population, and what kinds of people are typified by these clusters?"
   ]
  },
  {
   "cell_type": "code",
   "execution_count": 165,
   "metadata": {},
   "outputs": [],
   "source": [
    "# Compare the proportion of data in each cluster for the customer data to the\n",
    "# proportion of data in each cluster for the general population."
   ]
  },
  {
   "cell_type": "code",
   "execution_count": 171,
   "metadata": {},
   "outputs": [],
   "source": [
    "# Compute the proportion of data in each cluster for the general population\n",
    "# Store in dictionary for population data\n",
    "clustered_population = dict()\n",
    "n_pop = len(labels)\n",
    "for label in set(labels):\n",
    "    clustered_population[label] = sum(labels == label) / n_pop"
   ]
  },
  {
   "cell_type": "code",
   "execution_count": 172,
   "metadata": {},
   "outputs": [],
   "source": [
    "# Compute the proportion of data in each cluster for the customer data\n",
    "# Store in dictionary for customers data\n",
    "clustered_customers = dict()\n",
    "n_cust = len(labels_customers)\n",
    "for label in set(labels_customers):\n",
    "    clustered_customers[label] = sum(labels_customers == label) / n_cust"
   ]
  },
  {
   "cell_type": "code",
   "execution_count": 175,
   "metadata": {
    "scrolled": false
   },
   "outputs": [
    {
     "name": "stdout",
     "output_type": "stream",
     "text": [
      "             Population | Customers\n",
      "Cluster   0:        10% |  9%\n",
      "Cluster   1:         5% |  3%\n",
      "Cluster   2:        10% |  7%\n",
      "Cluster   3:         7% | 12%\n",
      "Cluster   4:        10% |  1%\n",
      "Cluster   5:         9% | 17%\n",
      "Cluster   6:         7% | 33%\n",
      "Cluster   7:        10% |  1%\n",
      "Cluster   8:         5% |  4%\n",
      "Cluster   9:         9% |  7%\n",
      "Cluster  10:         4% |  3%\n",
      "Cluster  11:         7% |  1%\n",
      "Cluster  12:         8% |  1%\n"
     ]
    }
   ],
   "source": [
    "# Print the proportions side-by-side\n",
    "diff_pp = []\n",
    "print('             Population | Customers')\n",
    "for label in clustered_population.keys():\n",
    "    pop_pc = int(round(clustered_population[label]*100))\n",
    "    cust_pc = int(round(clustered_customers[label]*100))\n",
    "    diff_pp += [cust_pc - pop_pc]\n",
    "    print('Cluster {:3.0f}:       {:>3.0f}% |{:>3.0f}%'.format(\n",
    "        label, pop_pc, cust_pc))"
   ]
  },
  {
   "cell_type": "code",
   "execution_count": 176,
   "metadata": {},
   "outputs": [],
   "source": [
    "# Helper function\n",
    "def labels_distribution(labels_population, labels_customers):\n",
    "    \"\"\"\n",
    "    Plot the proportion of data in each cluster \n",
    "    contrasting the population and customers datasets\n",
    "    \n",
    "    INPUT: \n",
    "        labels_population - array of label predictions for gen pop\n",
    "        labels_customers - array of label predictions for customers\n",
    "    OUTPUT: \n",
    "        None - plots the two distributions side by side\n",
    "    \"\"\"\n",
    "    fig, (ax1, ax2) = plt.subplots(1, 2, sharey=True)\n",
    "    \n",
    "    population = {'labels':labels_population, \n",
    "                  'axis':ax1,\n",
    "                  'xlabel':\"General population\"}\n",
    "    customers = {'labels':labels_customers, \n",
    "                  'axis':ax2,\n",
    "                  'xlabel':\"Customers\"}    \n",
    "    \n",
    "    for data_dict in [population, customers]:\n",
    "        df = pd.DataFrame(dict(labels=data_dict['labels']))\n",
    "        sns.barplot(ax=data_dict['axis'], data=df, x=\"labels\", y=\"labels\", \n",
    "                    estimator=lambda x: len(x) / len(df) * 100)\n",
    "        data_dict['axis'].set( xlabel=data_dict['xlabel'],\n",
    "                               ylabel=\"Proportion of data\") \n",
    "        data_dict['axis'].grid(which='major', axis='y')\n",
    "\n",
    "    fig.suptitle('Proportion of data in each cluster')\n",
    "    fig.tight_layout()\n",
    "    fig.subplots_adjust(top=0.9)\n",
    "    plt.show()"
   ]
  },
  {
   "cell_type": "code",
   "execution_count": 177,
   "metadata": {},
   "outputs": [
    {
     "data": {
      "image/png": "[encoded data removed]",
      "text/plain": [
       "<matplotlib.figure.Figure at 0x7f152f56fba8>"
      ]
     },
     "metadata": {
      "needs_background": "light"
     },
     "output_type": "display_data"
    }
   ],
   "source": [
    "# Plot the proportion of data in each cluster \n",
    "# for the general population and the customers \n",
    "labels_distribution(labels, labels_customers)"
   ]
  },
  {
   "cell_type": "code",
   "execution_count": 178,
   "metadata": {},
   "outputs": [],
   "source": [
    "# Use inverse_transform() method of PCA and StandardScaler objects \n",
    "# to transform centroids back to the original data space\n",
    "centroids = kmeans_13.cluster_centers_\n",
    "centroids = pca_40.inverse_transform(centroids)\n",
    "centroids = scaler.inverse_transform(centroids)"
   ]
  },
  {
   "cell_type": "code",
   "execution_count": 11,
   "metadata": {
    "scrolled": true
   },
   "outputs": [],
   "source": [
    "# Helper function\n",
    "def centroid_values(features, centroids, over_cluster, under_cluster):\n",
    "    \"\"\"\n",
    "    Print centroid values in original space\n",
    "    \n",
    "    INPUT: \n",
    "        features - Series of column names\n",
    "        centroids - array of centroids in original space\n",
    "        cluster - label for the cluster to print out\n",
    "    OUTPUT: \n",
    "        None - prints pair of feature name and value\n",
    "    \"\"\"\n",
    "    pp_1 = diff_pp[over_cluster]\n",
    "    pp_2 = diff_pp[under_cluster]\n",
    "    print('{0:>30}  {1:>20}'.format('-Feature-', '-Cluster centroids-'))\n",
    "    print('{0:>30} |   ({1:>+d})|    ({2:>+d})|'.format('', pp_1, pp_2))\n",
    "    for ii in zip(features, centroids[over_cluster], centroids[under_cluster]):\n",
    "        print('{0:>30} |{1:>8.1f}|{2:>8.1f}|'.format(ii[0], ii[1], ii[2]))\n",
    "    return None"
   ]
  },
  {
   "cell_type": "code",
   "execution_count": 180,
   "metadata": {},
   "outputs": [],
   "source": [
    "# What kinds of people are part of a cluster that is overrepresented in the\n",
    "# customer data compared to the general population?\n",
    "\n",
    "# What kinds of people are part of a cluster that is underrepresented in the\n",
    "# customer data compared to the general population?"
   ]
  },
  {
   "cell_type": "code",
   "execution_count": 181,
   "metadata": {
    "scrolled": true
   },
   "outputs": [
    {
     "name": "stdout",
     "output_type": "stream",
     "text": [
      "                     -Feature-   -Cluster centroids-\n",
      "                               |   (+26)|    (-9)|\n",
      "          ALTERSKATEGORIE_GROB |     3.3|     1.8|\n",
      "                     ANREDE_KZ |     1.0|     2.0|\n",
      "             FINANZ_MINIMALIST |     4.8|     2.2|\n",
      "                 FINANZ_SPARER |     1.6|     4.0|\n",
      "              FINANZ_VORSORGER |     4.2|     2.3|\n",
      "                FINANZ_ANLEGER |     1.4|     4.4|\n",
      "         FINANZ_UNAUFFAELLIGER |     2.1|     3.9|\n",
      "              FINANZ_HAUSBAUER |     2.0|     3.1|\n",
      "              GREEN_AVANTGARDE |     1.0|     0.2|\n",
      "                    HEALTH_TYP |     2.1|     2.2|\n",
      "                RETOURTYP_BK_S |     4.0|     2.5|\n",
      "                     SEMIO_SOZ |     4.9|     2.7|\n",
      "                     SEMIO_FAM |     4.7|     3.7|\n",
      "                     SEMIO_REL |     3.7|     5.2|\n",
      "                     SEMIO_MAT |     4.0|     4.9|\n",
      "                    SEMIO_VERT |     6.2|     2.6|\n",
      "                    SEMIO_LUST |     5.4|     3.4|\n",
      "                     SEMIO_ERL |     4.0|     4.2|\n",
      "                    SEMIO_KULT |     4.9|     4.1|\n",
      "                     SEMIO_RAT |     2.7|     6.1|\n",
      "                    SEMIO_KRIT |     3.2|     5.4|\n",
      "                     SEMIO_DOM |     3.4|     6.0|\n",
      "                    SEMIO_KAEM |     2.6|     5.5|\n",
      "                 SEMIO_PFLICHT |     3.1|     5.9|\n",
      "                   SEMIO_TRADV |     3.2|     5.8|\n",
      "                       SOHO_KZ |     0.0|     0.0|\n",
      "                      VERS_TYP |     1.5|     1.5|\n",
      "                  ANZ_PERSONEN |     2.2|     2.0|\n",
      "                     ANZ_TITEL |     0.0|     0.0|\n",
      "            HH_EINKOMMEN_SCORE |     2.5|     4.2|\n",
      "                W_KEIT_KIND_HH |     4.1|     3.3|\n",
      "                WOHNDAUER_2008 |     8.5|     7.6|\n",
      "           ANZ_HAUSHALTE_AKTIV |     2.0|     3.5|\n",
      "                  ANZ_HH_TITEL |     0.0|     0.0|\n",
      "                   KONSUMNAEHE |     3.3|     3.7|\n",
      "              MIN_GEBAEUDEJAHR |  1992.5|  1992.7|\n",
      "                   KBA05_ANTG1 |     2.7|     2.2|\n",
      "                   KBA05_ANTG2 |     1.1|     1.3|\n",
      "                   KBA05_ANTG3 |     0.1|     0.3|\n",
      "                   KBA05_ANTG4 |     0.0|     0.0|\n",
      "                     KBA05_GBZ |     4.1|     3.9|\n",
      "                      BALLRAUM |     3.9|     5.0|\n",
      "                      EWDICHTE |     4.0|     3.0|\n",
      "                    INNENSTADT |     4.6|     5.5|\n",
      "            GEBAEUDETYP_RASTER |     4.0|     4.0|\n",
      "                           KKK |     2.2|     2.7|\n",
      "                    MOBI_REGIO |     4.1|     3.8|\n",
      "             ONLINE_AFFINITAET |     3.1|     3.5|\n",
      "                      REGIOTYP |     3.5|     4.2|\n",
      "              KBA13_ANZAHL_PKW |   693.9|   710.4|\n",
      "                    PLZ8_ANTG1 |     2.8|     2.8|\n",
      "                    PLZ8_ANTG2 |     2.6|     2.4|\n",
      "                    PLZ8_ANTG3 |     1.2|     1.0|\n",
      "                    PLZ8_ANTG4 |     0.4|     0.3|\n",
      "                      PLZ8_HHZ |     3.7|     3.6|\n",
      "                      PLZ8_GBZ |     3.9|     3.9|\n",
      "                        ARBEIT |     3.1|     2.8|\n",
      "                   ORTSGR_KLS9 |     5.5|     3.9|\n",
      "                      RELAT_AB |     3.0|     2.5|\n",
      "               OST_WEST_KZ_num |     0.9|     0.9|\n",
      "  PRAEGENDE_JUGENDJAHRE_decade |     2.6|     4.6|\n",
      "PRAEGENDE_JUGENDJAHRE_movement |     1.0|     0.2|\n",
      "        CAMEO_INTL_2015_wealth |     2.0|     2.5|\n",
      "         CAMEO_INTL_2015_stage |     3.6|     3.2|\n",
      "         WOHNLAGE_neighborhood |     2.3|     1.7|\n",
      "                WOHNLAGE_rural |     0.1|     0.4|\n"
     ]
    }
   ],
   "source": [
    "centroid_values(features=customers.columns, centroids=centroids, \n",
    "                over_cluster=6, under_cluster=4)"
   ]
  },
  {
   "cell_type": "code",
   "execution_count": null,
   "metadata": {},
   "outputs": [],
   "source": []
  },
  {
   "cell_type": "code",
   "execution_count": 188,
   "metadata": {},
   "outputs": [
    {
     "name": "stdout",
     "output_type": "stream",
     "text": [
      "                     -Feature-   -Cluster centroids-\n",
      "                               |   (+26)|    (-9)|\n",
      "          ALTERSKATEGORIE_GROB |     3.3|     1.7|\n",
      "                     ANREDE_KZ |     1.0|     2.0|\n",
      "             FINANZ_MINIMALIST |     4.8|     1.2|\n",
      "                 FINANZ_SPARER |     1.6|     4.3|\n",
      "              FINANZ_VORSORGER |     4.2|     2.2|\n",
      "                FINANZ_ANLEGER |     1.4|     4.1|\n",
      "         FINANZ_UNAUFFAELLIGER |     2.1|     3.7|\n",
      "              FINANZ_HAUSBAUER |     2.0|     4.2|\n",
      "              GREEN_AVANTGARDE |     1.0|     0.0|\n",
      "                    HEALTH_TYP |     2.1|     2.2|\n",
      "                RETOURTYP_BK_S |     4.0|     2.6|\n",
      "                     SEMIO_SOZ |     4.9|     3.2|\n",
      "                     SEMIO_FAM |     4.7|     4.1|\n",
      "                     SEMIO_REL |     3.7|     5.5|\n",
      "                     SEMIO_MAT |     4.0|     4.9|\n",
      "                    SEMIO_VERT |     6.2|     2.3|\n",
      "                    SEMIO_LUST |     5.4|     3.1|\n",
      "                     SEMIO_ERL |     4.0|     4.4|\n",
      "                    SEMIO_KULT |     4.9|     4.2|\n",
      "                     SEMIO_RAT |     2.7|     6.2|\n",
      "                    SEMIO_KRIT |     3.2|     5.5|\n",
      "                     SEMIO_DOM |     3.4|     6.2|\n",
      "                    SEMIO_KAEM |     2.6|     6.2|\n",
      "                 SEMIO_PFLICHT |     3.1|     6.3|\n",
      "                   SEMIO_TRADV |     3.2|     5.7|\n",
      "                       SOHO_KZ |     0.0|     0.0|\n",
      "                      VERS_TYP |     1.5|     1.5|\n",
      "                  ANZ_PERSONEN |     2.2|     1.5|\n",
      "                     ANZ_TITEL |     0.0|     0.0|\n",
      "            HH_EINKOMMEN_SCORE |     2.5|     5.6|\n",
      "                W_KEIT_KIND_HH |     4.1|     4.0|\n",
      "                WOHNDAUER_2008 |     8.5|     7.3|\n",
      "           ANZ_HAUSHALTE_AKTIV |     2.0|    13.8|\n",
      "                  ANZ_HH_TITEL |     0.0|     0.0|\n",
      "                   KONSUMNAEHE |     3.3|     2.1|\n",
      "              MIN_GEBAEUDEJAHR |  1992.5|  1992.4|\n",
      "                   KBA05_ANTG1 |     2.7|     0.4|\n",
      "                   KBA05_ANTG2 |     1.1|     1.3|\n",
      "                   KBA05_ANTG3 |     0.1|     1.2|\n",
      "                   KBA05_ANTG4 |     0.0|     0.6|\n",
      "                     KBA05_GBZ |     4.1|     2.2|\n",
      "                      BALLRAUM |     3.9|     3.2|\n",
      "                      EWDICHTE |     4.0|     5.2|\n",
      "                    INNENSTADT |     4.6|     3.4|\n",
      "            GEBAEUDETYP_RASTER |     4.0|     3.4|\n",
      "                           KKK |     2.2|     2.9|\n",
      "                    MOBI_REGIO |     4.1|     1.8|\n",
      "             ONLINE_AFFINITAET |     3.1|     2.9|\n",
      "                      REGIOTYP |     3.5|     5.0|\n",
      "              KBA13_ANZAHL_PKW |   693.9|   518.5|\n",
      "                    PLZ8_ANTG1 |     2.8|     1.5|\n",
      "                    PLZ8_ANTG2 |     2.6|     3.3|\n",
      "                    PLZ8_ANTG3 |     1.2|     2.4|\n",
      "                    PLZ8_ANTG4 |     0.4|     1.3|\n",
      "                      PLZ8_HHZ |     3.7|     3.8|\n",
      "                      PLZ8_GBZ |     3.9|     2.7|\n",
      "                        ARBEIT |     3.1|     3.7|\n",
      "                   ORTSGR_KLS9 |     5.5|     7.0|\n",
      "                      RELAT_AB |     3.0|     3.7|\n",
      "               OST_WEST_KZ_num |     0.9|     0.7|\n",
      "  PRAEGENDE_JUGENDJAHRE_decade |     2.6|     4.5|\n",
      "PRAEGENDE_JUGENDJAHRE_movement |     1.0|     0.0|\n",
      "        CAMEO_INTL_2015_wealth |     2.0|     4.4|\n",
      "         CAMEO_INTL_2015_stage |     3.6|     2.1|\n",
      "         WOHNLAGE_neighborhood |     2.3|     3.4|\n",
      "                WOHNLAGE_rural |     0.1|    -0.0|\n"
     ]
    }
   ],
   "source": [
    "centroid_values(features=customers.columns, centroids=centroids, \n",
    "                over_cluster=6, under_cluster=7)"
   ]
  },
  {
   "cell_type": "code",
   "execution_count": null,
   "metadata": {},
   "outputs": [],
   "source": []
  },
  {
   "cell_type": "code",
   "execution_count": 189,
   "metadata": {},
   "outputs": [
    {
     "name": "stdout",
     "output_type": "stream",
     "text": [
      "                     -Feature-   -Cluster centroids-\n",
      "                               |   (+26)|    (-7)|\n",
      "          ALTERSKATEGORIE_GROB |     3.3|     1.8|\n",
      "                     ANREDE_KZ |     1.0|     1.0|\n",
      "             FINANZ_MINIMALIST |     4.8|     1.9|\n",
      "                 FINANZ_SPARER |     1.6|     4.4|\n",
      "              FINANZ_VORSORGER |     4.2|     2.1|\n",
      "                FINANZ_ANLEGER |     1.4|     3.6|\n",
      "         FINANZ_UNAUFFAELLIGER |     2.1|     3.8|\n",
      "              FINANZ_HAUSBAUER |     2.0|     3.6|\n",
      "              GREEN_AVANTGARDE |     1.0|     0.1|\n",
      "                    HEALTH_TYP |     2.1|     2.3|\n",
      "                RETOURTYP_BK_S |     4.0|     2.7|\n",
      "                     SEMIO_SOZ |     4.9|     6.8|\n",
      "                     SEMIO_FAM |     4.7|     6.8|\n",
      "                     SEMIO_REL |     3.7|     6.4|\n",
      "                     SEMIO_MAT |     4.0|     5.2|\n",
      "                    SEMIO_VERT |     6.2|     6.0|\n",
      "                    SEMIO_LUST |     5.4|     2.8|\n",
      "                     SEMIO_ERL |     4.0|     2.2|\n",
      "                    SEMIO_KULT |     4.9|     6.9|\n",
      "                     SEMIO_RAT |     2.7|     4.1|\n",
      "                    SEMIO_KRIT |     3.2|     2.8|\n",
      "                     SEMIO_DOM |     3.4|     2.8|\n",
      "                    SEMIO_KAEM |     2.6|     2.4|\n",
      "                 SEMIO_PFLICHT |     3.1|     5.8|\n",
      "                   SEMIO_TRADV |     3.2|     4.7|\n",
      "                       SOHO_KZ |     0.0|     0.0|\n",
      "                      VERS_TYP |     1.5|     1.5|\n",
      "                  ANZ_PERSONEN |     2.2|     1.5|\n",
      "                     ANZ_TITEL |     0.0|     0.0|\n",
      "            HH_EINKOMMEN_SCORE |     2.5|     5.5|\n",
      "                W_KEIT_KIND_HH |     4.1|     4.4|\n",
      "                WOHNDAUER_2008 |     8.5|     7.1|\n",
      "           ANZ_HAUSHALTE_AKTIV |     2.0|    13.2|\n",
      "                  ANZ_HH_TITEL |     0.0|     0.0|\n",
      "                   KONSUMNAEHE |     3.3|     2.1|\n",
      "              MIN_GEBAEUDEJAHR |  1992.5|  1992.5|\n",
      "                   KBA05_ANTG1 |     2.7|     0.4|\n",
      "                   KBA05_ANTG2 |     1.1|     1.4|\n",
      "                   KBA05_ANTG3 |     0.1|     1.2|\n",
      "                   KBA05_ANTG4 |     0.0|     0.5|\n",
      "                     KBA05_GBZ |     4.1|     2.2|\n",
      "                      BALLRAUM |     3.9|     3.3|\n",
      "                      EWDICHTE |     4.0|     5.1|\n",
      "                    INNENSTADT |     4.6|     3.3|\n",
      "            GEBAEUDETYP_RASTER |     4.0|     3.4|\n",
      "                           KKK |     2.2|     2.9|\n",
      "                    MOBI_REGIO |     4.1|     1.8|\n",
      "             ONLINE_AFFINITAET |     3.1|     3.0|\n",
      "                      REGIOTYP |     3.5|     4.9|\n",
      "              KBA13_ANZAHL_PKW |   693.9|   517.3|\n",
      "                    PLZ8_ANTG1 |     2.8|     1.5|\n",
      "                    PLZ8_ANTG2 |     2.6|     3.3|\n",
      "                    PLZ8_ANTG3 |     1.2|     2.4|\n",
      "                    PLZ8_ANTG4 |     0.4|     1.3|\n",
      "                      PLZ8_HHZ |     3.7|     3.8|\n",
      "                      PLZ8_GBZ |     3.9|     2.7|\n",
      "                        ARBEIT |     3.1|     3.7|\n",
      "                   ORTSGR_KLS9 |     5.5|     6.9|\n",
      "                      RELAT_AB |     3.0|     3.7|\n",
      "               OST_WEST_KZ_num |     0.9|     0.7|\n",
      "  PRAEGENDE_JUGENDJAHRE_decade |     2.6|     4.7|\n",
      "PRAEGENDE_JUGENDJAHRE_movement |     1.0|     0.1|\n",
      "        CAMEO_INTL_2015_wealth |     2.0|     4.4|\n",
      "         CAMEO_INTL_2015_stage |     3.6|     2.0|\n",
      "         WOHNLAGE_neighborhood |     2.3|     3.4|\n",
      "                WOHNLAGE_rural |     0.1|     0.0|\n"
     ]
    }
   ],
   "source": [
    "centroid_values(features=customers.columns, centroids=centroids, \n",
    "                over_cluster=6, under_cluster=12)"
   ]
  },
  {
   "cell_type": "code",
   "execution_count": 191,
   "metadata": {
    "scrolled": true
   },
   "outputs": [
    {
     "name": "stdout",
     "output_type": "stream",
     "text": [
      "                     -Feature-   -Cluster centroids-\n",
      "                               |   (+26)|    (+8)|\n",
      "          ALTERSKATEGORIE_GROB |     3.3|     3.3|\n",
      "                     ANREDE_KZ |     1.0|     1.1|\n",
      "             FINANZ_MINIMALIST |     4.8|     4.5|\n",
      "                 FINANZ_SPARER |     1.6|     1.7|\n",
      "              FINANZ_VORSORGER |     4.2|     4.1|\n",
      "                FINANZ_ANLEGER |     1.4|     2.2|\n",
      "         FINANZ_UNAUFFAELLIGER |     2.1|     1.9|\n",
      "              FINANZ_HAUSBAUER |     2.0|     2.2|\n",
      "              GREEN_AVANTGARDE |     1.0|     0.0|\n",
      "                    HEALTH_TYP |     2.1|     2.4|\n",
      "                RETOURTYP_BK_S |     4.0|     3.7|\n",
      "                     SEMIO_SOZ |     4.9|     4.7|\n",
      "                     SEMIO_FAM |     4.7|     4.6|\n",
      "                     SEMIO_REL |     3.7|     3.6|\n",
      "                     SEMIO_MAT |     4.0|     3.2|\n",
      "                    SEMIO_VERT |     6.2|     5.8|\n",
      "                    SEMIO_LUST |     5.4|     5.0|\n",
      "                     SEMIO_ERL |     4.0|     4.4|\n",
      "                    SEMIO_KULT |     4.9|     4.8|\n",
      "                     SEMIO_RAT |     2.7|     2.7|\n",
      "                    SEMIO_KRIT |     3.2|     3.6|\n",
      "                     SEMIO_DOM |     3.4|     3.2|\n",
      "                    SEMIO_KAEM |     2.6|     2.6|\n",
      "                 SEMIO_PFLICHT |     3.1|     3.2|\n",
      "                   SEMIO_TRADV |     3.2|     3.1|\n",
      "                       SOHO_KZ |     0.0|     0.0|\n",
      "                      VERS_TYP |     1.5|     1.6|\n",
      "                  ANZ_PERSONEN |     2.2|     1.9|\n",
      "                     ANZ_TITEL |     0.0|     0.0|\n",
      "            HH_EINKOMMEN_SCORE |     2.5|     3.9|\n",
      "                W_KEIT_KIND_HH |     4.1|     4.2|\n",
      "                WOHNDAUER_2008 |     8.5|     8.3|\n",
      "           ANZ_HAUSHALTE_AKTIV |     2.0|     2.8|\n",
      "                  ANZ_HH_TITEL |     0.0|     0.0|\n",
      "                   KONSUMNAEHE |     3.3|     4.1|\n",
      "              MIN_GEBAEUDEJAHR |  1992.5|  1992.8|\n",
      "                   KBA05_ANTG1 |     2.7|     2.4|\n",
      "                   KBA05_ANTG2 |     1.1|     1.1|\n",
      "                   KBA05_ANTG3 |     0.1|     0.2|\n",
      "                   KBA05_ANTG4 |     0.0|     0.0|\n",
      "                     KBA05_GBZ |     4.1|     4.1|\n",
      "                      BALLRAUM |     3.9|     5.5|\n",
      "                      EWDICHTE |     4.0|     2.3|\n",
      "                    INNENSTADT |     4.6|     6.1|\n",
      "            GEBAEUDETYP_RASTER |     4.0|     4.1|\n",
      "                           KKK |     2.2|     2.9|\n",
      "                    MOBI_REGIO |     4.1|     4.1|\n",
      "             ONLINE_AFFINITAET |     3.1|     2.6|\n",
      "                      REGIOTYP |     3.5|     4.6|\n",
      "              KBA13_ANZAHL_PKW |   693.9|   664.2|\n",
      "                    PLZ8_ANTG1 |     2.8|     3.0|\n",
      "                    PLZ8_ANTG2 |     2.6|     2.2|\n",
      "                    PLZ8_ANTG3 |     1.2|     0.7|\n",
      "                    PLZ8_ANTG4 |     0.4|     0.1|\n",
      "                      PLZ8_HHZ |     3.7|     3.3|\n",
      "                      PLZ8_GBZ |     3.9|     3.8|\n",
      "                        ARBEIT |     3.1|     2.6|\n",
      "                   ORTSGR_KLS9 |     5.5|     3.0|\n",
      "                      RELAT_AB |     3.0|     2.2|\n",
      "               OST_WEST_KZ_num |     0.9|     0.8|\n",
      "  PRAEGENDE_JUGENDJAHRE_decade |     2.6|     2.7|\n",
      "PRAEGENDE_JUGENDJAHRE_movement |     1.0|     0.0|\n",
      "        CAMEO_INTL_2015_wealth |     2.0|     2.5|\n",
      "         CAMEO_INTL_2015_stage |     3.6|     3.3|\n",
      "         WOHNLAGE_neighborhood |     2.3|     1.0|\n",
      "                WOHNLAGE_rural |     0.1|     0.7|\n"
     ]
    }
   ],
   "source": [
    "centroid_values(features=customers.columns, centroids=centroids, \n",
    "                over_cluster=6, under_cluster=5)"
   ]
  },
  {
   "cell_type": "markdown",
   "metadata": {},
   "source": [
    "### Discussion 3.3: Compare Customer Data to Demographics Data"
   ]
  },
  {
   "cell_type": "code",
   "execution_count": 190,
   "metadata": {},
   "outputs": [
    {
     "data": {
      "image/png": "[encoded data removed]",
      "text/plain": [
       "<matplotlib.figure.Figure at 0x7f1554547320>"
      ]
     },
     "metadata": {
      "needs_background": "light"
     },
     "output_type": "display_data"
    }
   ],
   "source": [
    "labels_distribution(labels, labels_customers)"
   ]
  },
  {
   "cell_type": "markdown",
   "metadata": {},
   "source": [
    "The following table shows the proportion of data in each cluster, contrasting the general population and the customer data, side by side:\n",
    "\n",
    "                     Population | Customer | Diff\n",
    "        Cluster   0:        10% |    9%    |  -1\n",
    "        Cluster   1:         5% |    3%    |  -2\n",
    "        Cluster   2:        10% |    7%    |  -3\n",
    "        Cluster   3:         7% |   12%    |  +5\n",
    "        Cluster   4:        10% |    1%    |  -9\n",
    "        Cluster   5:         9% |   17%    |  +8\n",
    "        Cluster   6:         7% |   33%    | +26\n",
    "        Cluster   7:        10% |    1%    |  -9\n",
    "        Cluster   8:         5% |    4%    |  -1\n",
    "        Cluster   9:         9% |    7%    |  -2\n",
    "        Cluster  10:         4% |    3%    |  -1\n",
    "        Cluster  11:         7% |    1%    |  -6\n",
    "        Cluster  12:         8% |    1%    |  -7\n",
    "\n",
    "I found that the best way to evaluate the representativeness of population segments in the customer data was to contrast two clusters at a time: one that is overrepresented to one that is less represented in the customer data. \n",
    "\n",
    "Also, I change the names of the clusters to denote whether a given cluster is overrepresented or underrepresented, and by how much. For instance, Cluster 6 above becomes Cluster +26, Cluster 4 becomes Cluster -9(a), Cluster 7 becomes Cluster -9(b), and so on. \n",
    "\n",
    "#### Cluster +26 vs. Cluster -9(b)\n",
    "\n",
    " To start I consider the most overrepresented segment — Cluster +26 — and contrast it with one of the two most underrepresented — Cluster -9(b). \n",
    "\n",
    "Cluster +26 and Cluster -9(b) are centered far from each other with respect to many important features in the original space: estimated age (and other directly associated features), gender, various dimensions of the financial and personality typologies, regional car ownership and housing type, and wealth. \n",
    "\n",
    "Specifically, the most overrepresented segment, Cluster +26, is centered on males in their late 40s and 50s; their financial typology is higher on dimensions like investing, and home ownership; their personality typology is substantially higher in dimensions like rational, critical, dominant, combative, religious, and traditional. They live in residential areas with high car ownership and high share of 1-2 family homes; they likely are upper-middle class and have older families.\n",
    "\n",
    "The most underrepresented segment, Cluster -9(b), is centered on females in their 30s; their financial typology is high on dimensions like \"low financial interest\"; their personality typology is higher in dimensions like socially-minded and dreamful. They live in apartment buildings in average-to-poor urban regions with lower car ownership. They likely have low income and are lower-middle class; and are single or married without school-age children.\n",
    "\n",
    "#### Cluster +26 vs. Cluster -9(a)\n",
    "\n",
    "I then contrast Cluster +26 with the other most underrepresented segment: Cluster -9(a).\n",
    "\n",
    "Cluster -9(a) seems to be centered on females, who are in a more similar socio-economic and geographic segment as the overrepresented Cluster +26. This groups looks analogous to Cluster -9(b) — analyzed above — with respect to gender and personality type; but in terms of economic measures and housing is actually more similar to Cluster +26.\n",
    "\n",
    "In summary, Cluster -9(a) is approximately centered on females living in good suburban neighborhoods; they likely are middle-class, married, and have school age children.\n",
    "\n",
    "#### Cluster +26 vs. Cluster -7\n",
    "\n",
    " Cluster -7 is centered on younger men, 30 - 45 years old, who are of similar socioeconomic status as the females in Cluster -9(b). They live in apartment buildings in average-to-poor urban regions. They likely are lower-middle class; and are single or married without school-age children.\n",
    "\n",
    " The demographics, other than gender, of these two clusters — Cluster -7 and Cluster -9(b) — are very similar; which leads me to believe that Cluster -7 captures the spouses or other males in the same social and community segment as the females in Cluster -9(b). \n",
    "\n",
    "#### Cluster +26 vs. Cluster +8\n",
    "\n",
    "The other overrepresented segment is Cluster +8, and is centered closely to Cluster +26 (the most overrepresented segment) with respect to age, gender, financial typology, and personality typology. The males in Cluster +8 are less wealthy and live in smaller communities farther from urban centers.\n",
    "\n",
    "My hypothesis is that Cluster +8 captures very similar individuals than Cluster +26, but instead of living in suburban, upper-middle class neighborhoods, the males in Cluster +8 live in more rural middle-class towns. \n",
    "\n",
    "#### Conclusion : Mail-order sales, target demographic \n",
    "\n",
    "The analysis above indicates that the clear target demographic for the mail-order sales consists of middle-aged men who show personality and social values that can be said to be traditional. They are more likely to be married with school-age children or have older families. These families likely own their dwellings in single- or dual-family buildings; which are located in upper-middle class suburban neighborhoods or in middle-class rural towns. "
   ]
  },
  {
   "cell_type": "markdown",
   "metadata": {},
   "source": [
    "> Congratulations on making it this far in the project! Before you finish, make sure to check through the entire notebook from top to bottom to make sure that your analysis follows a logical flow and all of your findings are documented in **Discussion** cells. Once you've checked over all of your work, you should export the notebook as an HTML document to submit for evaluation. You can do this from the menu, navigating to **File -> Download as -> HTML (.html)**. You will submit both that document and this notebook for your project submission."
   ]
  }
 ],
 "metadata": {
  "kernelspec": {
   "display_name": "Python 3",
   "language": "python",
   "name": "python3"
  },
  "language_info": {
   "codemirror_mode": {
    "name": "ipython",
    "version": 3
   },
   "file_extension": ".py",
   "mimetype": "text/x-python",
   "name": "python",
   "nbconvert_exporter": "python",
   "pygments_lexer": "ipython3",
   "version": "3.6.3"
  }
 },
 "nbformat": 4,
 "nbformat_minor": 2
}
